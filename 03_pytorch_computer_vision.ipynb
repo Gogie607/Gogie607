{
  "cells": [
    {
      "cell_type": "markdown",
      "metadata": {
        "id": "view-in-github",
        "colab_type": "text"
      },
      "source": [
        "<a href=\"https://colab.research.google.com/github/Gogie607/Gogie607/blob/main/03_pytorch_computer_vision.ipynb\" target=\"_parent\"><img src=\"https://colab.research.google.com/assets/colab-badge.svg\" alt=\"Open In Colab\"/></a>"
      ]
    },
    {
      "cell_type": "markdown",
      "id": "96639262-d97e-42c8-9ade-f9e54f6a5661",
      "metadata": {
        "id": "96639262-d97e-42c8-9ade-f9e54f6a5661"
      },
      "source": [
        "<a href=\"https://colab.research.google.com/github/mrdbourke/pytorch-deep-learning/blob/main/03_pytorch_computer_vision.ipynb\" target=\"_parent\"><img src=\"https://colab.research.google.com/assets/colab-badge.svg\" alt=\"Open In Colab\"/></a>\n",
        "\n",
        "[View Source Code](https://github.com/mrdbourke/pytorch-deep-learning/blob/main/03_pytorch_computer_vision.ipynb) | [View Slides](https://github.com/mrdbourke/pytorch-deep-learning/blob/main/slides/03_pytorch_computer_vision.pdf) | [Watch Video Walkthrough (Chapter 92)](https://youtu.be/V_xro1bcAuA&t=50445)"
      ]
    },
    {
      "cell_type": "markdown",
      "id": "8a5400eb-653b-46f1-88a6-079b01c4fb7d",
      "metadata": {
        "id": "8a5400eb-653b-46f1-88a6-079b01c4fb7d"
      },
      "source": [
        "# 03. PyTorch Computer Vision\n",
        "\n",
        "[Computer vision](https://en.wikipedia.org/wiki/Computer_vision) is the art of teaching a computer to see.\n",
        "\n",
        "Specifically, we're going to cover:\n",
        "\n",
        "| **Topic** | **Contents** |\n",
        "| ----- | ----- |\n",
        "| **0. Computer vision libraries in PyTorch** | PyTorch has a bunch of built-in helpful computer vision libraries, let's check them out.  |\n",
        "| **1. Load data** | To practice computer vision, we'll start with some images of different pieces of clothing from [FashionMNIST](https://github.com/zalandoresearch/fashion-mnist). |\n",
        "| **2. Prepare data** | We've got some images, let's load them in with a [PyTorch `DataLoader`](https://pytorch.org/docs/stable/data.html) so we can use them with our training loop. |\n",
        "| **3. Model 0: Building a baseline model** | Here we'll create a multi-class classification model to learn patterns in the data, we'll also choose a **loss function**, **optimizer** and build a **training loop**. |\n",
        "| **4. Making predictions and evaluating model 0** | Let's make some predictions with our baseline model and evaluate them. |\n",
        "| **5. Setup device agnostic code for future models** | It's best practice to write device-agnostic code, so let's set it up. |\n",
        "| **6. Model 1: Adding non-linearity** | Experimenting is a large part of machine learning, let's try and improve upon our baseline model by adding non-linear layers. |\n",
        "| **7. Model 2: Convolutional Neural Network (CNN)** | Time to get computer vision specific and introduce the powerful convolutional neural network architecture. |\n",
        "| **8. Comparing our models** | We've built three different models, let's compare them. |\n",
        "| **9. Evaluating our best model** | Let's make some predictions on random images and evaluate our best model. |\n",
        "| **10. Making a confusion matrix** | A confusion matrix is a great way to evaluate a classification model, let's see how we can make one. |\n",
        "| **11. Saving and loading the best performing model** | Since we might want to use our model for later, let's save it and make sure it loads back in correctly. |"
      ]
    },
    {
      "cell_type": "code",
      "execution_count": 1,
      "id": "ae4f7a61-89c4-41ec-9923-7760f2415d7a",
      "metadata": {
        "id": "ae4f7a61-89c4-41ec-9923-7760f2415d7a"
      },
      "outputs": [],
      "source": [
        "\n",
        "from IPython.display import clear_output\n",
        "import torch\n",
        "# example  of timestamp used in youtube\n",
        "#chapter 61 at 8:41:43  hour + 3600 *(min/60) + sec\n",
        "# the video ID I am watching is https://youtu.be/V_xro1bcAuA&t=timestamp\n",
        "def get_timestamp(h:torch.int,m:torch.int,s:torch.int):\n",
        "    return(3600 * h + (60*m) + s)\n",
        "#(8. + (41/60)) * 3600 + 43\n"
      ]
    },
    {
      "cell_type": "markdown",
      "id": "23ff1e7c-b060-4092-b112-71c6b03f7ea3",
      "metadata": {
        "id": "23ff1e7c-b060-4092-b112-71c6b03f7ea3"
      },
      "source": [
        "## 0. Computer vision libraries in PyTorch\n",
        "\n",
        "Before we get started writing code, let's talk about some PyTorch computer vision libraries you should be aware of.\n",
        "\n",
        "| PyTorch module | What does it do? |\n",
        "| ----- | ----- |\n",
        "| [`torchvision`](https://pytorch.org/vision/stable/index.html) | Contains datasets, model architectures and image transformations often used for computer vision problems. |\n",
        "| [`torchvision.datasets`](https://pytorch.org/vision/stable/datasets.html) | Here you'll find many example computer vision datasets for a range of problems from image classification, object detection, image captioning, video classification and more. It also contains [a series of base classes for making custom datasets](https://pytorch.org/vision/stable/datasets.html#base-classes-for-custom-datasets). |\n",
        "| [`torchvision.models`](https://pytorch.org/vision/stable/models.html) | This module contains well-performing and commonly used computer vision model architectures implemented in PyTorch, you can use these with your own problems. |\n",
        "| [`torchvision.transforms`](https://pytorch.org/vision/stable/transforms.html) | Often images need to be transformed (turned into numbers/processed/augmented) before being used with a model, common image transformations are found here. |\n",
        "| [`torch.utils.data.Dataset`](https://pytorch.org/docs/stable/data.html#torch.utils.data.Dataset) | Base dataset class for PyTorch.  |\n",
        "| [`torch.utils.data.DataLoader`](https://pytorch.org/docs/stable/data.html#module-torch.utils.data) | Creates a Python iterable over a dataset (created with `torch.utils.data.Dataset`). |\n",
        "\n",
        "> **Note:** The `torch.utils.data.Dataset` and `torch.utils.data.DataLoader` classes aren't only for computer vision in PyTorch, they are capable of dealing with many different types of data.\n",
        "\n",
        "Now we've covered some of the most important PyTorch computer vision libraries, let's import the relevant dependencies.\n"
      ]
    },
    {
      "cell_type": "code",
      "execution_count": 2,
      "id": "bd73bf1f-f03c-4705-aae6-3362914ea3d5",
      "metadata": {
        "colab": {
          "base_uri": "https://localhost:8080/"
        },
        "id": "bd73bf1f-f03c-4705-aae6-3362914ea3d5",
        "outputId": "51a67d6c-eee5-409a-81c1-0e53bb5ed00a"
      },
      "outputs": [
        {
          "output_type": "stream",
          "name": "stdout",
          "text": [
            "PyTorch version: 2.5.0+cu121\n",
            "torchvision version: 0.20.0+cu121\n",
            "Cuda version: 12.1\n",
            "Is Cuda available: True\n",
            "Cuda device name: Tesla T4\n"
          ]
        }
      ],
      "source": [
        "#import the basic libraries we use\n",
        "import torch\n",
        "from torch import nn\n",
        "\n",
        "# new torchvision stuff\n",
        "import torchvision\n",
        "from torchvision import datasets, models\n",
        "from torchvision import transforms\n",
        "from torchvision.transforms import ToTensor\n",
        "\n",
        "# matplotlib for visualization\n",
        "import matplotlib.pyplot as plt\n",
        "\n",
        "# Check versions\n",
        "# Note: your PyTorch version shouldn't be lower than 1.10.0 and torchvision version shouldn't be lower than 0.11\n",
        "print(f\"PyTorch version: {torch.__version__}\\ntorchvision version: {torchvision.__version__}\")\n",
        "print(f\"Cuda version: {torch.version.cuda}\")\n",
        "print(f\"Is Cuda available: {torch.cuda.is_available()}\")\n",
        "print(f\"Cuda device name: {torch.cuda.get_device_name(0)}\")"
      ]
    },
    {
      "cell_type": "markdown",
      "id": "5b09c675-8ae8-42af-8967-86cabf668521",
      "metadata": {
        "id": "5b09c675-8ae8-42af-8967-86cabf668521"
      },
      "source": [
        " **Chapter 93** 14,12.04 51159  94 (14,22,48)  95 (14,27,50)\n",
        " [Chapter 96)](https://youtu.be/V_xro1bcAuA&t=52630)\n"
      ]
    },
    {
      "cell_type": "markdown",
      "id": "0a67d350-0e0f-403b-8174-c71b22a5fd34",
      "metadata": {
        "id": "0a67d350-0e0f-403b-8174-c71b22a5fd34"
      },
      "source": [
        "## 1. Getting a dataset  \n",
        "To begin working on a computer vision problewm, let's get a dataset.\n",
        "\n",
        "We're going to start with [FashionMNIST](https://pytorch.org/vision/stable/generated/torchvision.datasets.FashionMNIST.html#torchvision.datasets.FashionMNIST)...\n",
        "\n",
        "Later, we'll be building a computer vision neural network to identify the different styles of clothing in these images.\n",
        "\n",
        "PyTorch has a bunch of common computer vision datasets stored in torchvision.datasets.\n",
        "\n",
        "Including FashionMNIST in torchvision.datasets.FashionMNIST().\n",
        "\n",
        "To download it, we provide the following parameters:\n",
        "\n",
        "root: str - which folder do you want to download the data to?\n",
        "train: Bool - do you want the training or test split?\n",
        "download: Bool - should the data be downloaded?\n",
        "transform: torchvision.transforms - what transformations would you like to do on the data?\n",
        "target_transform - you can transform the targets (labels) if you like too.\n",
        "Many other datasets in torchvision have these parameter options."
      ]
    },
    {
      "cell_type": "code",
      "execution_count": 3,
      "id": "feb14381-8b86-43a9-8d9c-9f27ce0f69a6",
      "metadata": {
        "colab": {
          "base_uri": "https://localhost:8080/"
        },
        "id": "feb14381-8b86-43a9-8d9c-9f27ce0f69a6",
        "outputId": "3c9d8165-e62c-420d-dc05-b84f8fcc4640"
      },
      "outputs": [
        {
          "output_type": "stream",
          "name": "stdout",
          "text": [
            "Downloading http://fashion-mnist.s3-website.eu-central-1.amazonaws.com/train-images-idx3-ubyte.gz\n",
            "Downloading http://fashion-mnist.s3-website.eu-central-1.amazonaws.com/train-images-idx3-ubyte.gz to data/FashionMNIST/raw/train-images-idx3-ubyte.gz\n"
          ]
        },
        {
          "output_type": "stream",
          "name": "stderr",
          "text": [
            "100%|██████████| 26.4M/26.4M [00:02<00:00, 13.1MB/s]\n"
          ]
        },
        {
          "output_type": "stream",
          "name": "stdout",
          "text": [
            "Extracting data/FashionMNIST/raw/train-images-idx3-ubyte.gz to data/FashionMNIST/raw\n",
            "\n",
            "Downloading http://fashion-mnist.s3-website.eu-central-1.amazonaws.com/train-labels-idx1-ubyte.gz\n",
            "Downloading http://fashion-mnist.s3-website.eu-central-1.amazonaws.com/train-labels-idx1-ubyte.gz to data/FashionMNIST/raw/train-labels-idx1-ubyte.gz\n"
          ]
        },
        {
          "output_type": "stream",
          "name": "stderr",
          "text": [
            "100%|██████████| 29.5k/29.5k [00:00<00:00, 213kB/s]\n"
          ]
        },
        {
          "output_type": "stream",
          "name": "stdout",
          "text": [
            "Extracting data/FashionMNIST/raw/train-labels-idx1-ubyte.gz to data/FashionMNIST/raw\n",
            "\n",
            "Downloading http://fashion-mnist.s3-website.eu-central-1.amazonaws.com/t10k-images-idx3-ubyte.gz\n",
            "Downloading http://fashion-mnist.s3-website.eu-central-1.amazonaws.com/t10k-images-idx3-ubyte.gz to data/FashionMNIST/raw/t10k-images-idx3-ubyte.gz\n"
          ]
        },
        {
          "output_type": "stream",
          "name": "stderr",
          "text": [
            "100%|██████████| 4.42M/4.42M [00:01<00:00, 3.92MB/s]\n"
          ]
        },
        {
          "output_type": "stream",
          "name": "stdout",
          "text": [
            "Extracting data/FashionMNIST/raw/t10k-images-idx3-ubyte.gz to data/FashionMNIST/raw\n",
            "\n",
            "Downloading http://fashion-mnist.s3-website.eu-central-1.amazonaws.com/t10k-labels-idx1-ubyte.gz\n",
            "Downloading http://fashion-mnist.s3-website.eu-central-1.amazonaws.com/t10k-labels-idx1-ubyte.gz to data/FashionMNIST/raw/t10k-labels-idx1-ubyte.gz\n"
          ]
        },
        {
          "output_type": "stream",
          "name": "stderr",
          "text": [
            "100%|██████████| 5.15k/5.15k [00:00<00:00, 21.6MB/s]"
          ]
        },
        {
          "output_type": "stream",
          "name": "stdout",
          "text": [
            "Extracting data/FashionMNIST/raw/t10k-labels-idx1-ubyte.gz to data/FashionMNIST/raw\n",
            "\n"
          ]
        },
        {
          "output_type": "stream",
          "name": "stderr",
          "text": [
            "\n"
          ]
        }
      ],
      "source": [
        "# setup training data\n",
        "from torchvision import datasets\n",
        "train_data = datasets.FashionMNIST(\n",
        "    root='data', #where to put data\n",
        "    train=True,\n",
        "    download=True,\n",
        "    transform=torchvision.transforms.ToTensor(),\n",
        "    target_transform=None\n",
        ")\n",
        "\n",
        "test_data = datasets.FashionMNIST(\n",
        "    root='data',\n",
        "    train=False,\n",
        "    download=True,\n",
        "    transform=torchvision.transforms.ToTensor(),\n",
        "    target_transform=None\n",
        ")\n"
      ]
    },
    {
      "cell_type": "code",
      "source": [
        "from google.colab import drive\n",
        "drive.mount('/content/drive')"
      ],
      "metadata": {
        "colab": {
          "base_uri": "https://localhost:8080/"
        },
        "id": "FhKqGJyrxlEG",
        "outputId": "a2d2cebf-f444-493e-932a-7f0fd45115f0"
      },
      "id": "FhKqGJyrxlEG",
      "execution_count": 4,
      "outputs": [
        {
          "output_type": "stream",
          "name": "stdout",
          "text": [
            "Mounted at /content/drive\n"
          ]
        }
      ]
    },
    {
      "cell_type": "code",
      "execution_count": 5,
      "id": "8b8845ec-9864-4f2d-93eb-0413fa211b2b",
      "metadata": {
        "colab": {
          "base_uri": "https://localhost:8080/"
        },
        "id": "8b8845ec-9864-4f2d-93eb-0413fa211b2b",
        "outputId": "0aa11f3b-acf7-46da-c750-9bf1f301a219"
      },
      "outputs": [
        {
          "output_type": "execute_result",
          "data": {
            "text/plain": [
              "(60000, 10000)"
            ]
          },
          "metadata": {},
          "execution_count": 5
        }
      ],
      "source": [
        "len(train_data), len(test_data                 )"
      ]
    },
    {
      "cell_type": "code",
      "execution_count": 6,
      "id": "e95bcb8f-d696-4cc7-b7d0-dc1dbea774d4",
      "metadata": {
        "colab": {
          "base_uri": "https://localhost:8080/"
        },
        "id": "e95bcb8f-d696-4cc7-b7d0-dc1dbea774d4",
        "outputId": "863e9650-c6b2-4698-c5c7-4808eb761d6f"
      },
      "outputs": [
        {
          "output_type": "execute_result",
          "data": {
            "text/plain": [
              "(tensor([[[0.0000, 0.0000, 0.0000, 0.0000, 0.0000, 0.0000, 0.0000, 0.0000,\n",
              "           0.0000, 0.0000, 0.0000, 0.0000, 0.0000, 0.0000, 0.0000, 0.0000,\n",
              "           0.0000, 0.0000, 0.0000, 0.0000, 0.0000, 0.0000, 0.0000, 0.0000,\n",
              "           0.0000, 0.0000, 0.0000, 0.0000],\n",
              "          [0.0000, 0.0000, 0.0000, 0.0000, 0.0000, 0.0000, 0.0000, 0.0000,\n",
              "           0.0000, 0.0000, 0.0000, 0.0000, 0.0000, 0.0000, 0.0000, 0.0000,\n",
              "           0.0000, 0.0000, 0.0000, 0.0000, 0.0000, 0.0000, 0.0000, 0.0000,\n",
              "           0.0000, 0.0000, 0.0000, 0.0000],\n",
              "          [0.0000, 0.0000, 0.0000, 0.0000, 0.0000, 0.0000, 0.0000, 0.0000,\n",
              "           0.0000, 0.0000, 0.0000, 0.0000, 0.0000, 0.0000, 0.0000, 0.0000,\n",
              "           0.0000, 0.0000, 0.0000, 0.0000, 0.0000, 0.0000, 0.0000, 0.0000,\n",
              "           0.0000, 0.0000, 0.0000, 0.0000],\n",
              "          [0.0000, 0.0000, 0.0000, 0.0000, 0.0000, 0.0000, 0.0000, 0.0000,\n",
              "           0.0000, 0.0000, 0.0000, 0.0000, 0.0039, 0.0000, 0.0000, 0.0510,\n",
              "           0.2863, 0.0000, 0.0000, 0.0039, 0.0157, 0.0000, 0.0000, 0.0000,\n",
              "           0.0000, 0.0039, 0.0039, 0.0000],\n",
              "          [0.0000, 0.0000, 0.0000, 0.0000, 0.0000, 0.0000, 0.0000, 0.0000,\n",
              "           0.0000, 0.0000, 0.0000, 0.0000, 0.0118, 0.0000, 0.1412, 0.5333,\n",
              "           0.4980, 0.2431, 0.2118, 0.0000, 0.0000, 0.0000, 0.0039, 0.0118,\n",
              "           0.0157, 0.0000, 0.0000, 0.0118],\n",
              "          [0.0000, 0.0000, 0.0000, 0.0000, 0.0000, 0.0000, 0.0000, 0.0000,\n",
              "           0.0000, 0.0000, 0.0000, 0.0000, 0.0235, 0.0000, 0.4000, 0.8000,\n",
              "           0.6902, 0.5255, 0.5647, 0.4824, 0.0902, 0.0000, 0.0000, 0.0000,\n",
              "           0.0000, 0.0471, 0.0392, 0.0000],\n",
              "          [0.0000, 0.0000, 0.0000, 0.0000, 0.0000, 0.0000, 0.0000, 0.0000,\n",
              "           0.0000, 0.0000, 0.0000, 0.0000, 0.0000, 0.0000, 0.6078, 0.9255,\n",
              "           0.8118, 0.6980, 0.4196, 0.6118, 0.6314, 0.4275, 0.2510, 0.0902,\n",
              "           0.3020, 0.5098, 0.2824, 0.0588],\n",
              "          [0.0000, 0.0000, 0.0000, 0.0000, 0.0000, 0.0000, 0.0000, 0.0000,\n",
              "           0.0000, 0.0000, 0.0000, 0.0039, 0.0000, 0.2706, 0.8118, 0.8745,\n",
              "           0.8549, 0.8471, 0.8471, 0.6392, 0.4980, 0.4745, 0.4784, 0.5725,\n",
              "           0.5529, 0.3451, 0.6745, 0.2588],\n",
              "          [0.0000, 0.0000, 0.0000, 0.0000, 0.0000, 0.0000, 0.0000, 0.0000,\n",
              "           0.0000, 0.0039, 0.0039, 0.0039, 0.0000, 0.7843, 0.9098, 0.9098,\n",
              "           0.9137, 0.8980, 0.8745, 0.8745, 0.8431, 0.8353, 0.6431, 0.4980,\n",
              "           0.4824, 0.7686, 0.8980, 0.0000],\n",
              "          [0.0000, 0.0000, 0.0000, 0.0000, 0.0000, 0.0000, 0.0000, 0.0000,\n",
              "           0.0000, 0.0000, 0.0000, 0.0000, 0.0000, 0.7176, 0.8824, 0.8471,\n",
              "           0.8745, 0.8941, 0.9216, 0.8902, 0.8784, 0.8706, 0.8784, 0.8667,\n",
              "           0.8745, 0.9608, 0.6784, 0.0000],\n",
              "          [0.0000, 0.0000, 0.0000, 0.0000, 0.0000, 0.0000, 0.0000, 0.0000,\n",
              "           0.0000, 0.0000, 0.0000, 0.0000, 0.0000, 0.7569, 0.8941, 0.8549,\n",
              "           0.8353, 0.7765, 0.7059, 0.8314, 0.8235, 0.8275, 0.8353, 0.8745,\n",
              "           0.8627, 0.9529, 0.7922, 0.0000],\n",
              "          [0.0000, 0.0000, 0.0000, 0.0000, 0.0000, 0.0000, 0.0000, 0.0000,\n",
              "           0.0000, 0.0039, 0.0118, 0.0000, 0.0471, 0.8588, 0.8627, 0.8314,\n",
              "           0.8549, 0.7529, 0.6627, 0.8902, 0.8157, 0.8549, 0.8784, 0.8314,\n",
              "           0.8863, 0.7725, 0.8196, 0.2039],\n",
              "          [0.0000, 0.0000, 0.0000, 0.0000, 0.0000, 0.0000, 0.0000, 0.0000,\n",
              "           0.0000, 0.0000, 0.0235, 0.0000, 0.3882, 0.9569, 0.8706, 0.8627,\n",
              "           0.8549, 0.7961, 0.7765, 0.8667, 0.8431, 0.8353, 0.8706, 0.8627,\n",
              "           0.9608, 0.4667, 0.6549, 0.2196],\n",
              "          [0.0000, 0.0000, 0.0000, 0.0000, 0.0000, 0.0000, 0.0000, 0.0000,\n",
              "           0.0000, 0.0157, 0.0000, 0.0000, 0.2157, 0.9255, 0.8941, 0.9020,\n",
              "           0.8941, 0.9412, 0.9098, 0.8353, 0.8549, 0.8745, 0.9176, 0.8510,\n",
              "           0.8510, 0.8196, 0.3608, 0.0000],\n",
              "          [0.0000, 0.0000, 0.0039, 0.0157, 0.0235, 0.0275, 0.0078, 0.0000,\n",
              "           0.0000, 0.0000, 0.0000, 0.0000, 0.9294, 0.8863, 0.8510, 0.8745,\n",
              "           0.8706, 0.8588, 0.8706, 0.8667, 0.8471, 0.8745, 0.8980, 0.8431,\n",
              "           0.8549, 1.0000, 0.3020, 0.0000],\n",
              "          [0.0000, 0.0118, 0.0000, 0.0000, 0.0000, 0.0000, 0.0000, 0.0000,\n",
              "           0.0000, 0.2431, 0.5686, 0.8000, 0.8941, 0.8118, 0.8353, 0.8667,\n",
              "           0.8549, 0.8157, 0.8275, 0.8549, 0.8784, 0.8745, 0.8588, 0.8431,\n",
              "           0.8784, 0.9569, 0.6235, 0.0000],\n",
              "          [0.0000, 0.0000, 0.0000, 0.0000, 0.0706, 0.1725, 0.3216, 0.4196,\n",
              "           0.7412, 0.8941, 0.8627, 0.8706, 0.8510, 0.8863, 0.7843, 0.8039,\n",
              "           0.8275, 0.9020, 0.8784, 0.9176, 0.6902, 0.7373, 0.9804, 0.9725,\n",
              "           0.9137, 0.9333, 0.8431, 0.0000],\n",
              "          [0.0000, 0.2235, 0.7333, 0.8157, 0.8784, 0.8667, 0.8784, 0.8157,\n",
              "           0.8000, 0.8392, 0.8157, 0.8196, 0.7843, 0.6235, 0.9608, 0.7569,\n",
              "           0.8078, 0.8745, 1.0000, 1.0000, 0.8667, 0.9176, 0.8667, 0.8275,\n",
              "           0.8627, 0.9098, 0.9647, 0.0000],\n",
              "          [0.0118, 0.7922, 0.8941, 0.8784, 0.8667, 0.8275, 0.8275, 0.8392,\n",
              "           0.8039, 0.8039, 0.8039, 0.8627, 0.9412, 0.3137, 0.5882, 1.0000,\n",
              "           0.8980, 0.8667, 0.7373, 0.6039, 0.7490, 0.8235, 0.8000, 0.8196,\n",
              "           0.8706, 0.8941, 0.8824, 0.0000],\n",
              "          [0.3843, 0.9137, 0.7765, 0.8235, 0.8706, 0.8980, 0.8980, 0.9176,\n",
              "           0.9765, 0.8627, 0.7608, 0.8431, 0.8510, 0.9451, 0.2549, 0.2863,\n",
              "           0.4157, 0.4588, 0.6588, 0.8588, 0.8667, 0.8431, 0.8510, 0.8745,\n",
              "           0.8745, 0.8784, 0.8980, 0.1137],\n",
              "          [0.2941, 0.8000, 0.8314, 0.8000, 0.7569, 0.8039, 0.8275, 0.8824,\n",
              "           0.8471, 0.7255, 0.7725, 0.8078, 0.7765, 0.8353, 0.9412, 0.7647,\n",
              "           0.8902, 0.9608, 0.9373, 0.8745, 0.8549, 0.8314, 0.8196, 0.8706,\n",
              "           0.8627, 0.8667, 0.9020, 0.2627],\n",
              "          [0.1882, 0.7961, 0.7176, 0.7608, 0.8353, 0.7725, 0.7255, 0.7451,\n",
              "           0.7608, 0.7529, 0.7922, 0.8392, 0.8588, 0.8667, 0.8627, 0.9255,\n",
              "           0.8824, 0.8471, 0.7804, 0.8078, 0.7294, 0.7098, 0.6941, 0.6745,\n",
              "           0.7098, 0.8039, 0.8078, 0.4510],\n",
              "          [0.0000, 0.4784, 0.8588, 0.7569, 0.7020, 0.6706, 0.7176, 0.7686,\n",
              "           0.8000, 0.8235, 0.8353, 0.8118, 0.8275, 0.8235, 0.7843, 0.7686,\n",
              "           0.7608, 0.7490, 0.7647, 0.7490, 0.7765, 0.7529, 0.6902, 0.6118,\n",
              "           0.6549, 0.6941, 0.8235, 0.3608],\n",
              "          [0.0000, 0.0000, 0.2902, 0.7412, 0.8314, 0.7490, 0.6863, 0.6745,\n",
              "           0.6863, 0.7098, 0.7255, 0.7373, 0.7412, 0.7373, 0.7569, 0.7765,\n",
              "           0.8000, 0.8196, 0.8235, 0.8235, 0.8275, 0.7373, 0.7373, 0.7608,\n",
              "           0.7529, 0.8471, 0.6667, 0.0000],\n",
              "          [0.0078, 0.0000, 0.0000, 0.0000, 0.2588, 0.7843, 0.8706, 0.9294,\n",
              "           0.9373, 0.9490, 0.9647, 0.9529, 0.9569, 0.8667, 0.8627, 0.7569,\n",
              "           0.7490, 0.7020, 0.7137, 0.7137, 0.7098, 0.6902, 0.6510, 0.6588,\n",
              "           0.3882, 0.2275, 0.0000, 0.0000],\n",
              "          [0.0000, 0.0000, 0.0000, 0.0000, 0.0000, 0.0000, 0.0000, 0.1569,\n",
              "           0.2392, 0.1725, 0.2824, 0.1608, 0.1373, 0.0000, 0.0000, 0.0000,\n",
              "           0.0000, 0.0000, 0.0000, 0.0000, 0.0000, 0.0000, 0.0000, 0.0000,\n",
              "           0.0000, 0.0000, 0.0000, 0.0000],\n",
              "          [0.0000, 0.0000, 0.0000, 0.0000, 0.0000, 0.0000, 0.0000, 0.0000,\n",
              "           0.0000, 0.0000, 0.0000, 0.0000, 0.0000, 0.0000, 0.0000, 0.0000,\n",
              "           0.0000, 0.0000, 0.0000, 0.0000, 0.0000, 0.0000, 0.0000, 0.0000,\n",
              "           0.0000, 0.0000, 0.0000, 0.0000],\n",
              "          [0.0000, 0.0000, 0.0000, 0.0000, 0.0000, 0.0000, 0.0000, 0.0000,\n",
              "           0.0000, 0.0000, 0.0000, 0.0000, 0.0000, 0.0000, 0.0000, 0.0000,\n",
              "           0.0000, 0.0000, 0.0000, 0.0000, 0.0000, 0.0000, 0.0000, 0.0000,\n",
              "           0.0000, 0.0000, 0.0000, 0.0000]]]),\n",
              " 9)"
            ]
          },
          "metadata": {},
          "execution_count": 6
        }
      ],
      "source": [
        "image,label = train_data[0]\n",
        "image[:1],label"
      ]
    },
    {
      "cell_type": "code",
      "execution_count": 7,
      "id": "f4f6fa8f-b92b-45d7-9eba-cd2eaee2ebbc",
      "metadata": {
        "colab": {
          "base_uri": "https://localhost:8080/"
        },
        "id": "f4f6fa8f-b92b-45d7-9eba-cd2eaee2ebbc",
        "outputId": "3d6274d8-7a3a-4fde-968c-fb79adc95c63"
      },
      "outputs": [
        {
          "output_type": "execute_result",
          "data": {
            "text/plain": [
              "['T-shirt/top',\n",
              " 'Trouser',\n",
              " 'Pullover',\n",
              " 'Dress',\n",
              " 'Coat',\n",
              " 'Sandal',\n",
              " 'Shirt',\n",
              " 'Sneaker',\n",
              " 'Bag',\n",
              " 'Ankle boot']"
            ]
          },
          "metadata": {},
          "execution_count": 7
        }
      ],
      "source": [
        "class_names = train_data.classes\n",
        "class_names"
      ]
    },
    {
      "cell_type": "code",
      "execution_count": 8,
      "id": "a6da2c8e-3049-4a8e-a353-bb8ac0b7e177",
      "metadata": {
        "colab": {
          "base_uri": "https://localhost:8080/"
        },
        "id": "a6da2c8e-3049-4a8e-a353-bb8ac0b7e177",
        "outputId": "91ed2010-45a7-41c8-c3c9-0a28db0767fd"
      },
      "outputs": [
        {
          "output_type": "execute_result",
          "data": {
            "text/plain": [
              "{'T-shirt/top': 0,\n",
              " 'Trouser': 1,\n",
              " 'Pullover': 2,\n",
              " 'Dress': 3,\n",
              " 'Coat': 4,\n",
              " 'Sandal': 5,\n",
              " 'Shirt': 6,\n",
              " 'Sneaker': 7,\n",
              " 'Bag': 8,\n",
              " 'Ankle boot': 9}"
            ]
          },
          "metadata": {},
          "execution_count": 8
        }
      ],
      "source": [
        "class_to_idx = train_data.class_to_idx\n",
        "class_to_idx"
      ]
    },
    {
      "cell_type": "code",
      "execution_count": 9,
      "id": "2dbf6a0c-d1b9-43ba-bd53-bef80dc061be",
      "metadata": {
        "colab": {
          "base_uri": "https://localhost:8080/"
        },
        "id": "2dbf6a0c-d1b9-43ba-bd53-bef80dc061be",
        "outputId": "130bfa7c-21fa-4a9d-bcda-ffb163976cea"
      },
      "outputs": [
        {
          "output_type": "stream",
          "name": "stdout",
          "text": [
            "image.shape torch.Size([1, 28, 28]) ->[color_channel, height, width]\n",
            "Label: Ankle boot\n"
          ]
        }
      ],
      "source": [
        "print(f\"image.shape {image.shape} ->[color_channel, height, width]\")\n",
        "print(f\"Label: {class_names[label]}\")"
      ]
    },
    {
      "cell_type": "markdown",
      "id": "39350f0c-b469-4b5e-9409-9c10660e3599",
      "metadata": {
        "id": "39350f0c-b469-4b5e-9409-9c10660e3599"
      },
      "source": [
        "### 1.2 Visualizing our data | [Chapter 97](https://youtu.be/V_xro1bcAuA&t=53502)\n",
        "\n",
        "Plot image as an image"
      ]
    },
    {
      "cell_type": "code",
      "execution_count": 10,
      "id": "3b3d0108-6e23-4c82-938d-ed58e9310709",
      "metadata": {
        "colab": {
          "base_uri": "https://localhost:8080/",
          "height": 488
        },
        "id": "3b3d0108-6e23-4c82-938d-ed58e9310709",
        "outputId": "4f7f640d-1e78-4c13-f391-58a8b28619aa"
      },
      "outputs": [
        {
          "output_type": "stream",
          "name": "stdout",
          "text": [
            "image shape: torch.Size([1, 28, 28])\n"
          ]
        },
        {
          "output_type": "execute_result",
          "data": {
            "text/plain": [
              "Text(0.5, 1.0, 'Ankle boot')"
            ]
          },
          "metadata": {},
          "execution_count": 10
        },
        {
          "output_type": "display_data",
          "data": {
            "text/plain": [
              "<Figure size 640x480 with 1 Axes>"
            ],
            "image/png": "[encoded data removed]"
          },
          "metadata": {}
        }
      ],
      "source": [
        "import matplotlib.pyplot as plt\n",
        "image, label = train_data[0]\n",
        "print(f\"image shape: {image.shape}\")\n",
        "plt.imshow(image.squeeze())\n",
        "plt.title(class_names[label])"
      ]
    },
    {
      "cell_type": "code",
      "execution_count": 11,
      "id": "9d6c9780-09c0-4b78-936c-189e8b4c449c",
      "metadata": {
        "colab": {
          "base_uri": "https://localhost:8080/",
          "height": 446
        },
        "id": "9d6c9780-09c0-4b78-936c-189e8b4c449c",
        "outputId": "4f315477-3cac-4aa3-9663-88eb0e76bb1e"
      },
      "outputs": [
        {
          "output_type": "execute_result",
          "data": {
            "text/plain": [
              "(-0.5, 27.5, 27.5, -0.5)"
            ]
          },
          "metadata": {},
          "execution_count": 11
        },
        {
          "output_type": "display_data",
          "data": {
            "text/plain": [
              "<Figure size 640x480 with 1 Axes>"
            ],
            "image/png": "[encoded data removed]"
          },
          "metadata": {}
        }
      ],
      "source": [
        "plt.imshow(image.squeeze(), cmap=\"gray\")\n",
        "plt.title(class_names[label])\n",
        "plt.axis(False)"
      ]
    },
    {
      "cell_type": "code",
      "execution_count": 12,
      "id": "394ca12d-c05b-4629-a032-afc47aa3283e",
      "metadata": {
        "colab": {
          "base_uri": "https://localhost:8080/",
          "height": 662
        },
        "id": "394ca12d-c05b-4629-a032-afc47aa3283e",
        "outputId": "d7667feb-98b0-4268-8fa4-ab578fc65697"
      },
      "outputs": [
        {
          "output_type": "display_data",
          "data": {
            "text/plain": [
              "<Figure size 900x900 with 16 Axes>"
            ],
            "image/png": "[encoded data removed]"
          },
          "metadata": {}
        }
      ],
      "source": [
        "# plot more images\n",
        "#torch.manual_seed(42)\n",
        "fig = plt.figure(figsize=(9,9))\n",
        "rows, cols = 4,4\n",
        "for i in range(1, rows*cols +1):\n",
        "    random_idx = torch.randint(0,len(train_data), size=[1]).item()\n",
        "    img,label = train_data[random_idx]\n",
        "    fig.add_subplot(rows,cols,i)\n",
        "    plt.imshow(img.squeeze(),cmap=\"gray\")\n",
        "    plt.title(class_names[label])\n",
        "    plt.axis(False)"
      ]
    },
    {
      "cell_type": "markdown",
      "id": "6dfc7dbe-acbc-4a71-9a92-2960f124fe65",
      "metadata": {
        "id": "6dfc7dbe-acbc-4a71-9a92-2960f124fe65"
      },
      "source": [
        "## 2. Dataloader overview and understanding mini batches\n",
        "[Chapter 98](https://youtu.be/V_xro1bcAuA&t=54094)\n",
        "\n",
        "Prepare dataloader\n",
        "\n",
        "Right now our data is in the form of a pytorch dataset.\n",
        "Specifically we want to turn our data into batches (or mini-batches).\n",
        "We have a relatively small train dataset but in case we split it into batches for example 32 images at a time. Doing so allows the network to update gradients multiple times per epoch.\n",
        "\n",
        "The other reason is efficiency and memory  available."
      ]
    },
    {
      "cell_type": "code",
      "execution_count": 13,
      "id": "ea9763b8-b6df-44d6-b631-2b58cea3ba39",
      "metadata": {
        "colab": {
          "base_uri": "https://localhost:8080/"
        },
        "id": "ea9763b8-b6df-44d6-b631-2b58cea3ba39",
        "outputId": "1ab33321-0466-4617-cfac-b2017120fe75"
      },
      "outputs": [
        {
          "output_type": "execute_result",
          "data": {
            "text/plain": [
              "(Dataset FashionMNIST\n",
              "     Number of datapoints: 60000\n",
              "     Root location: data\n",
              "     Split: Train\n",
              "     StandardTransform\n",
              " Transform: ToTensor(),\n",
              " Dataset FashionMNIST\n",
              "     Number of datapoints: 10000\n",
              "     Root location: data\n",
              "     Split: Test\n",
              "     StandardTransform\n",
              " Transform: ToTensor())"
            ]
          },
          "metadata": {},
          "execution_count": 13
        }
      ],
      "source": [
        "train_data, test_data"
      ]
    },
    {
      "cell_type": "code",
      "execution_count": 14,
      "id": "4e0b449d-b59a-4931-b624-cbac45ef11eb",
      "metadata": {
        "id": "4e0b449d-b59a-4931-b624-cbac45ef11eb"
      },
      "outputs": [],
      "source": [
        "from torch.utils.data import DataLoader\n",
        "\n",
        "BATCH_SIZE = 64\n",
        "train_dataloader = DataLoader(dataset=train_data,\n",
        "                     batch_size=BATCH_SIZE,\n",
        "                     shuffle=True) # provides more randomness per batch\n",
        "\n",
        "test_dataloader = DataLoader(dataset=test_data,\n",
        "                     batch_size=BATCH_SIZE,\n",
        "                     shuffle=False) # no real need to shuffle test data\n",
        "\n",
        "#  train_dataloader, test_dataloader"
      ]
    },
    {
      "cell_type": "code",
      "execution_count": 15,
      "id": "418c7cdf-0efe-4925-9d01-e2241b239c23",
      "metadata": {
        "colab": {
          "base_uri": "https://localhost:8080/"
        },
        "id": "418c7cdf-0efe-4925-9d01-e2241b239c23",
        "outputId": "1ec14f55-1416-42d1-e599-b4ce7c8c4ad5"
      },
      "outputs": [
        {
          "output_type": "stream",
          "name": "stdout",
          "text": [
            "DataLoaders:\n",
            "   Train: <torch.utils.data.dataloader.DataLoader object at 0x78609c3be110>,\n",
            "   Test: <torch.utils.data.dataloader.DataLoader object at 0x78609c3bdab0> \n",
            "Length of train_dataloader: 938 batches of 64 \n",
            "Length of test_dataloader: 157 batches of 64 \n"
          ]
        }
      ],
      "source": [
        "# What did we just create?\n",
        "print(f\"DataLoaders:\\n   Train: {train_dataloader},\\n   Test: {test_dataloader} \")\n",
        "print(f\"Length of train_dataloader: {len(train_dataloader)} batches of {BATCH_SIZE} \")\n",
        "print(f\"Length of test_dataloader: {len(test_dataloader)} batches of {BATCH_SIZE} \")"
      ]
    },
    {
      "cell_type": "code",
      "execution_count": 16,
      "id": "66d6e3b3-a1f8-426f-9c55-71e2d2b7d550",
      "metadata": {
        "colab": {
          "base_uri": "https://localhost:8080/"
        },
        "id": "66d6e3b3-a1f8-426f-9c55-71e2d2b7d550",
        "outputId": "7fd7aac5-b122-4f0b-b327-ee18e0d507f7"
      },
      "outputs": [
        {
          "output_type": "execute_result",
          "data": {
            "text/plain": [
              "(torch.Size([64, 1, 28, 28]), torch.Size([64]))"
            ]
          },
          "metadata": {},
          "execution_count": 16
        }
      ],
      "source": [
        "# Check out what is inside training dataloader\n",
        "train_features_batch, train_labels_batch = next(iter(train_dataloader))\n",
        "train_features_batch.shape, train_labels_batch.shape"
      ]
    },
    {
      "cell_type": "code",
      "execution_count": 17,
      "id": "109a45a9-b83f-4a0e-9876-775ae08b9b8d",
      "metadata": {
        "colab": {
          "base_uri": "https://localhost:8080/",
          "height": 464
        },
        "id": "109a45a9-b83f-4a0e-9876-775ae08b9b8d",
        "outputId": "0745e8fe-f06c-4394-e98b-64fb5a81cedf"
      },
      "outputs": [
        {
          "output_type": "stream",
          "name": "stdout",
          "text": [
            "Image size: torch.Size([1, 28, 28])\n",
            "Label: 4, size: torch.Size([])\n"
          ]
        },
        {
          "output_type": "display_data",
          "data": {
            "text/plain": [
              "<Figure size 640x480 with 1 Axes>"
            ],
            "image/png": "[encoded data removed]"
          },
          "metadata": {}
        }
      ],
      "source": [
        "# Show a sample\n",
        "#torch.manual_seed(42)\n",
        "random_idx = torch.randint(0, len(train_features_batch), size=[1]).item()\n",
        "img, label = train_features_batch[random_idx], train_labels_batch[random_idx]\n",
        "plt.imshow(img.squeeze(), cmap=\"gray\")\n",
        "plt.title(class_names[label])\n",
        "plt.axis(False)\n",
        "print(f\"Image size: {img.shape}\")\n",
        "print(f\"Label: {label}, size: {label.shape}\")\n",
        "\n"
      ]
    },
    {
      "cell_type": "markdown",
      "id": "e11704f8-00b9-4b5b-aae3-87360b624c11",
      "metadata": {
        "id": "e11704f8-00b9-4b5b-aae3-87360b624c11"
      },
      "source": [
        "## 3.  Model 0: Creating a baseline with 2 linear layers | [chapter 100](https://youtu.be/V_xro1bcAuA&t=55277)\n",
        "A base model is a simple model which you will try to improve upon with subsequent models/experiments.  \n",
        "**MAKE REVISIONS:**  rather than overwritting previous models, create new models with added complexity step by step"
      ]
    },
    {
      "cell_type": "code",
      "execution_count": 18,
      "id": "76d26a6b-6eb2-44c9-885e-53df0adbaedf",
      "metadata": {
        "colab": {
          "base_uri": "https://localhost:8080/"
        },
        "id": "76d26a6b-6eb2-44c9-885e-53df0adbaedf",
        "outputId": "2509ca5e-c936-46de-b88c-82ed002aac53"
      },
      "outputs": [
        {
          "output_type": "stream",
          "name": "stdout",
          "text": [
            "Shape before flattening: torch.Size([1, 28, 28])\n",
            "Shape after flattening: torch.Size([1, 784])\n"
          ]
        }
      ],
      "source": [
        "# Create a flatten layer\n",
        "# This will create a flat version of our 28,28 matrix into a single [1,28*28] tensor\n",
        "\n",
        "flatten_model = nn.Flatten()\n",
        "# Get a single sample\n",
        "x = train_features_batch[0]\n",
        "x_flat = flatten_model(x)\n",
        "\n",
        "print(f\"Shape before flattening: {x.shape}\")\n",
        "print(f\"Shape after flattening: {x_flat.shape}\")\n",
        "\n",
        "# we want to send this to a linear layer that can opnly handle a single layer"
      ]
    },
    {
      "cell_type": "code",
      "execution_count": 34,
      "id": "6a8f1617-61e3-4780-8d12-9da1a672f732",
      "metadata": {
        "colab": {
          "base_uri": "https://localhost:8080/",
          "height": 35
        },
        "id": "6a8f1617-61e3-4780-8d12-9da1a672f732",
        "outputId": "d85a0fe9-dd64-4715-898a-f9830e3322a0"
      },
      "outputs": [
        {
          "output_type": "execute_result",
          "data": {
            "text/plain": [
              "'cpu'"
            ],
            "application/vnd.google.colaboratory.intrinsic+json": {
              "type": "string"
            }
          },
          "metadata": {},
          "execution_count": 34
        }
      ],
      "source": [
        "# We need device agnostic code\n",
        "#device = \"cuda\" if torch.cuda.is_available() else \"cpu\"\n",
        "device=\"cpu\"\n",
        "device"
      ]
    },
    {
      "cell_type": "code",
      "execution_count": 35,
      "id": "0d4b30d5-2045-463f-b3a4-45ae2c40a7ce",
      "metadata": {
        "colab": {
          "base_uri": "https://localhost:8080/"
        },
        "id": "0d4b30d5-2045-463f-b3a4-45ae2c40a7ce",
        "outputId": "82c8f893-04fb-4977-ffbb-091dec3d93ca"
      },
      "outputs": [
        {
          "output_type": "execute_result",
          "data": {
            "text/plain": [
              "FashionMNISTModel_V0(\n",
              "  (layer_stack): Sequential(\n",
              "    (0): Flatten(start_dim=1, end_dim=-1)\n",
              "    (1): Linear(in_features=784, out_features=16, bias=True)\n",
              "    (2): Linear(in_features=16, out_features=10, bias=True)\n",
              "  )\n",
              ")"
            ]
          },
          "metadata": {},
          "execution_count": 35
        }
      ],
      "source": [
        "IN_SHAPE = 784  #28*28 flattened image\n",
        "OUT_SHAPE = len(class_names)\n",
        "HIDDEN_UNITS = 16  # magic number to play with\n",
        "\n",
        "from torch import nn\n",
        "class FashionMNISTModel_V0(nn.Module):\n",
        "    def __init__(self,\n",
        "                input_shape: int,\n",
        "                hidden_shape: int,\n",
        "                output_shape: int):\n",
        "        super().__init__()\n",
        "        self.layer_stack= nn.Sequential(\n",
        "            nn.Flatten(),\n",
        "            nn.Linear(in_features=input_shape,\n",
        "                     out_features=hidden_shape),\n",
        "\n",
        "            nn.Linear(in_features=hidden_shape,\n",
        "                     out_features=output_shape)\n",
        "        )\n",
        "\n",
        "    def forward(self,x):\n",
        "        return self.layer_stack(x)\n",
        "\n",
        "# setup model with my HParam\n",
        "model_0 = FashionMNISTModel_V0(IN_SHAPE, HIDDEN_UNITS, OUT_SHAPE).to(device)\n",
        "model_0"
      ]
    },
    {
      "cell_type": "code",
      "execution_count": 36,
      "id": "52b60494-f0ae-46ad-a13a-a6be81e41cc1",
      "metadata": {
        "colab": {
          "base_uri": "https://localhost:8080/"
        },
        "id": "52b60494-f0ae-46ad-a13a-a6be81e41cc1",
        "outputId": "3d0b72b0-f5a7-4f94-c30a-7466d22f0898"
      },
      "outputs": [
        {
          "output_type": "execute_result",
          "data": {
            "text/plain": [
              "(tensor([[0.0991, 0.0891, 0.0776, 0.1015, 0.1622, 0.1011, 0.0925, 0.0579, 0.1193,\n",
              "          0.0996]], grad_fn=<SoftmaxBackward0>),\n",
              " 4)"
            ]
          },
          "metadata": {},
          "execution_count": 36
        }
      ],
      "source": [
        "dummy_x = torch.rand([1,1,28,28]).to(device)\n",
        "logit = model_0(dummy_x)\n",
        "dummy_probs = torch.softmax(logit,dim=1)\n",
        "#.argmax(dim=1)\n",
        "dummy_pred = torch.argmax(dummy_probs, dim=1)\n",
        "dummy_probs, dummy_pred.item()\n",
        "#correct = torch.eq(y_true, y_pred).sum().item()"
      ]
    },
    {
      "cell_type": "code",
      "execution_count": 37,
      "id": "907d69a5-8312-45f0-959d-cc7ef3c80988",
      "metadata": {
        "colab": {
          "base_uri": "https://localhost:8080/"
        },
        "id": "907d69a5-8312-45f0-959d-cc7ef3c80988",
        "outputId": "7df7ade4-e0d4-43e1-99b6-1646ad9c45a7"
      },
      "outputs": [
        {
          "output_type": "execute_result",
          "data": {
            "text/plain": [
              "OrderedDict([('layer_stack.1.weight',\n",
              "              tensor([[-0.0078,  0.0072, -0.0174,  ..., -0.0354,  0.0187,  0.0085],\n",
              "                      [-0.0182,  0.0344, -0.0162,  ...,  0.0017,  0.0045,  0.0133],\n",
              "                      [-0.0108, -0.0213,  0.0084,  ...,  0.0273, -0.0081,  0.0026],\n",
              "                      ...,\n",
              "                      [ 0.0327,  0.0125, -0.0200,  ..., -0.0315, -0.0168, -0.0187],\n",
              "                      [-0.0337,  0.0056, -0.0028,  ..., -0.0167, -0.0028, -0.0070],\n",
              "                      [ 0.0241,  0.0167,  0.0275,  ...,  0.0289,  0.0107,  0.0284]])),\n",
              "             ('layer_stack.1.bias',\n",
              "              tensor([-0.0170, -0.0234, -0.0287, -0.0056, -0.0035, -0.0203, -0.0122, -0.0115,\n",
              "                       0.0344, -0.0026,  0.0290,  0.0034,  0.0127,  0.0206, -0.0329, -0.0161])),\n",
              "             ('layer_stack.2.weight',\n",
              "              tensor([[-0.1900,  0.2429,  0.0917, -0.1048, -0.1885,  0.1384,  0.0580, -0.1230,\n",
              "                       -0.1814, -0.1305,  0.0609, -0.2105, -0.0264,  0.1484,  0.1335,  0.0270],\n",
              "                      [ 0.0266,  0.0584,  0.0976,  0.1973,  0.0679,  0.1374,  0.1743, -0.1939,\n",
              "                       -0.1334,  0.1373,  0.0501, -0.1443,  0.0739, -0.2273, -0.0930,  0.1261],\n",
              "                      [-0.0066, -0.1689,  0.1236,  0.0174, -0.0358, -0.2404, -0.0902,  0.0276,\n",
              "                       -0.1359,  0.0421, -0.1776,  0.1929,  0.1925,  0.1473, -0.0297, -0.2491],\n",
              "                      [-0.0976, -0.0203, -0.2304,  0.1968,  0.0712,  0.1897, -0.2237, -0.1284,\n",
              "                        0.0563, -0.0038, -0.1454,  0.1828,  0.1031, -0.0119,  0.2382, -0.2438],\n",
              "                      [-0.2271,  0.0499,  0.2269,  0.1413, -0.1376,  0.1794,  0.1299,  0.0142,\n",
              "                        0.1582,  0.0495,  0.0003, -0.0692, -0.1328, -0.1576, -0.0329, -0.1710],\n",
              "                      [ 0.1060,  0.0706, -0.2437, -0.1839,  0.1787, -0.1311, -0.0026, -0.1601,\n",
              "                       -0.0547,  0.1233,  0.0635,  0.1227, -0.0146, -0.1995, -0.0031,  0.1482],\n",
              "                      [ 0.0585,  0.0517,  0.0492,  0.2051,  0.1261, -0.0409, -0.1356,  0.2034,\n",
              "                       -0.1301, -0.1671,  0.0781, -0.1596, -0.2157, -0.2024,  0.0616, -0.1571],\n",
              "                      [ 0.2212, -0.0100, -0.1062, -0.1533, -0.0747,  0.2181, -0.1596, -0.2315,\n",
              "                        0.0744,  0.0848, -0.2118, -0.1122,  0.2167, -0.1182,  0.1049, -0.1200],\n",
              "                      [-0.2207, -0.2412,  0.1907,  0.0766,  0.0711,  0.0860,  0.0963,  0.1650,\n",
              "                        0.1918,  0.1928,  0.0803,  0.0446,  0.0537, -0.2025,  0.1115,  0.0617],\n",
              "                      [ 0.1087, -0.0617,  0.2076,  0.0300, -0.0593, -0.0071, -0.0998, -0.0367,\n",
              "                        0.2122,  0.0829, -0.0279,  0.0094,  0.0571, -0.1443, -0.1371,  0.2204]])),\n",
              "             ('layer_stack.2.bias',\n",
              "              tensor([ 0.0014,  0.0744, -0.1150, -0.1838,  0.0496,  0.1350, -0.2355, -0.2473,\n",
              "                      -0.0834,  0.1617]))])"
            ]
          },
          "metadata": {},
          "execution_count": 37
        }
      ],
      "source": [
        "#101 15,35,57\n",
        "model_0.state_dict()"
      ]
    },
    {
      "cell_type": "code",
      "execution_count": 26,
      "id": "9d5b1517-019a-4524-ae28-25645e8797f4",
      "metadata": {
        "colab": {
          "base_uri": "https://localhost:8080/"
        },
        "id": "9d5b1517-019a-4524-ae28-25645e8797f4",
        "outputId": "836433df-5ac9-4263-adac-0669c5dc10b6"
      },
      "outputs": [
        {
          "output_type": "stream",
          "name": "stdout",
          "text": [
            "Downloading helper_functions.py\n"
          ]
        }
      ],
      "source": [
        "# a nice little tidbit to check and load additional files\n",
        "import requests\n",
        "from pathlib import Path\n",
        "\n",
        "#  download file if needed\n",
        "if Path(\"helper_functions.py\").is_file():\n",
        "      print(\"helper_functions.py already exists, skipping download\")\n",
        "else:\n",
        "  print(\"Downloading helper_functions.py\")\n",
        "  # Note: you need the \"raw\" GitHub URL for this to work\n",
        "  request = requests.get(\"https://raw.githubusercontent.com/mrdbourke/pytorch-deep-learning/main/helper_functions.py\")\n",
        "  with open(\"helper_functions.py\", \"wb\") as f:\n",
        "    f.write(request.content)"
      ]
    },
    {
      "cell_type": "code",
      "execution_count": 38,
      "id": "efe33fe4-d15c-4068-be54-a8633c357c5f",
      "metadata": {
        "id": "efe33fe4-d15c-4068-be54-a8633c357c5f"
      },
      "outputs": [],
      "source": [
        "from helper_functions import accuracy_fn\n",
        "\n",
        "# set up loss and optimizer\n",
        "loss_fn = nn.CrossEntropyLoss()\n",
        "optimizer = torch.optim.SGD(params=model_0.parameters(),\n",
        "                           lr=0.1)"
      ]
    },
    {
      "cell_type": "markdown",
      "id": "912098f7-4b74-4a6f-9c8b-edf7d07cdd5e",
      "metadata": {
        "id": "912098f7-4b74-4a6f-9c8b-edf7d07cdd5e"
      },
      "source": [
        "### 3.2 Creating a function to time our experiments |  [chapter 102](https://youtu.be/V_xro1bcAuA&t=56787)\n",
        "\n",
        "Machine learning is very experimental\n",
        "\n",
        "Two of the main things you'll want to track are:\n",
        "1. Model's performance (loss accuracy values etc)\n",
        "2. How fast it runs"
      ]
    },
    {
      "cell_type": "code",
      "execution_count": 28,
      "id": "151cd8bf-2400-49c2-89db-271bc49cd0b6",
      "metadata": {
        "id": "151cd8bf-2400-49c2-89db-271bc49cd0b6"
      },
      "outputs": [],
      "source": [
        "from timeit import default_timer as timer\n",
        "def print_train_time(start: float,\n",
        "                     stop: float,\n",
        "                     device: torch.device = None):\n",
        "    \"\"\" Prints difference between start and stop times\n",
        "    return: The time in millseconds of runtime\n",
        "    \"\"\"\n",
        "    total_time_ms = (stop - start) * 1000\n",
        "    print(f\"Train time on device {device}: {total_time_ms:.3f} milliseconds\")\n",
        "    return total_time_ms"
      ]
    },
    {
      "cell_type": "code",
      "execution_count": 29,
      "id": "63d3ac39-cb60-4d5a-bb5e-bd41a06f9e56",
      "metadata": {
        "colab": {
          "base_uri": "https://localhost:8080/"
        },
        "id": "63d3ac39-cb60-4d5a-bb5e-bd41a06f9e56",
        "outputId": "b912fa82-0161-4f00-f362-ef6d8a47184a"
      },
      "outputs": [
        {
          "output_type": "stream",
          "name": "stdout",
          "text": [
            "Train time on device cuda: 0.038 milliseconds\n"
          ]
        },
        {
          "output_type": "execute_result",
          "data": {
            "text/plain": [
              "0.03764300004149845"
            ]
          },
          "metadata": {},
          "execution_count": 29
        }
      ],
      "source": [
        "start_time = timer()\n",
        "# some code\n",
        "stop_time = timer()\n",
        "print_train_time(start_time, stop_time, device)"
      ]
    },
    {
      "cell_type": "code",
      "execution_count": 30,
      "id": "5ea372d9-1ce1-46ca-b3bd-d8c1344bfdfc",
      "metadata": {
        "id": "5ea372d9-1ce1-46ca-b3bd-d8c1344bfdfc"
      },
      "outputs": [],
      "source": [
        "# better Timer than above\n",
        "import time\n",
        "\n",
        "class Timer():\n",
        "    def __init__(self,dev :str = \"unspecified\"):\n",
        "        self.device = dev\n",
        "\n",
        "    def __enter__(self):\n",
        "        self.start_time = time.time()  # Take the initial snapshot of time\n",
        "\n",
        "        return self  # Return the instance for optional use in the `with` block\n",
        "\n",
        "    def __exit__(self, exc_type, exc_value, traceback):\n",
        "        self.end_time = time.time()  # Take the snapshot of time when exiting the context\n",
        "        self.elapsed_time = self.end_time - self.start_time  # Calculate elapsed time\n",
        "        print(f\"Elapsed time on {self.device} device: {self.elapsed_time:.4f} seconds\")\n",
        "        # If needed, handle exceptions (return False to propagate exceptions)\n",
        "        return False"
      ]
    },
    {
      "cell_type": "code",
      "execution_count": 31,
      "id": "13075f1b-bb28-4126-8199-d0d82c50e23a",
      "metadata": {
        "colab": {
          "base_uri": "https://localhost:8080/"
        },
        "id": "13075f1b-bb28-4126-8199-d0d82c50e23a",
        "outputId": "bf863bc0-896e-44ae-aa6c-81ebfea39675"
      },
      "outputs": [
        {
          "output_type": "stream",
          "name": "stdout",
          "text": [
            "Elapsed time on unspecified device: 0.0002 seconds\n",
            "Timed out of loop: 0.00017261505126953125\n"
          ]
        }
      ],
      "source": [
        "with Timer() as t:\n",
        "    for i in range(1,1000):\n",
        "        if i% 1000 == 0:\n",
        "            pass\n",
        "\n",
        "print(f\"Timed out of loop: {t.elapsed_time}\")"
      ]
    },
    {
      "cell_type": "markdown",
      "id": "01367674-fe13-4061-a9a7-8cce9ddc92f4",
      "metadata": {
        "id": "01367674-fe13-4061-a9a7-8cce9ddc92f4"
      },
      "source": [
        "### 3.3 Creating a training loop for batched data |  [chapter 103](https://youtu.be/V_xro1bcAuA&t=57121)\n",
        "**Note:** the optimizer will update model's parameters once per batch ... i.e. Many times per epoch\n",
        "1. Loop through epochs\n",
        "2. Loop thru training batches, perform training steps, calculate the train loss per batch\n",
        "3. Loop thru testing batches, perform test steps, calculate the loss per batch\n",
        "4. Print out whats' happinin'\n",
        "5. Time it all (for fun)"
      ]
    },
    {
      "cell_type": "code",
      "execution_count": 41,
      "id": "79c876d8-a8bf-478a-a1bc-c6d86ed0fd2c",
      "metadata": {
        "id": "79c876d8-a8bf-478a-a1bc-c6d86ed0fd2c"
      },
      "outputs": [],
      "source": [
        "# assumption is all preparations have been made cuz the timer is running\n",
        "def train_loop(epochs: int):\n",
        "    # create\n",
        "    for epoch in tqdm(range(epochs)):\n",
        "        print(f\"epoch: {epoch}\\n----\")\n",
        "        #Training\n",
        "        train_loss = 0 # add all batch losses, divide by num batches to get average epoch loss\n",
        "        #add a loop to loop thru batches\n",
        "        for batch, (X,targets) in enumerate(train_dataloader):\n",
        "            model_0.train()\n",
        "            # 1. forward pass\n",
        "            train_logits = model_0(X)\n",
        "            train_probs = torch.softmax(train_logits,dim=1)\n",
        "            #.argmax(dim=1)\n",
        "            train_preds = torch.argmax(train_probs, dim=1)\n",
        "            # 2. Calculate the loss (per Batch)\n",
        "            loss = loss_fn(train_logits, targets)\n",
        "            train_loss += loss\n",
        "            # last 3  basic steps\n",
        "            optimizer.zero_grad()\n",
        "            loss.backward()\n",
        "            # step what params\n",
        "            optimizer.step()\n",
        "\n",
        "            #print\n",
        "            if batch % 400 == 0:\n",
        "                print(f\"Looked at {batch * len(X)}/{len(train_dataloader.dataset)} samples\")\n",
        "        # Divide total train loss by length of train dataloader\n",
        "        train_loss /= len(train_dataloader) # num of batches\n",
        "\n",
        "        # Testing\n",
        "        test_loss, test_acc = 0, 0\n",
        "        model_0.eval()\n",
        "        with torch.inference_mode():\n",
        "            for X_test, test_targets in test_dataloader:  # test batches\n",
        "                # 1. forward pass\n",
        "                test_logits = model_0(X_test)\n",
        "\n",
        "                # 2. Calculate the loss (per Batch)\n",
        "                test_loss = loss_fn(test_logits, test_targets)\n",
        "                # last 3 - 5 training steps not needed in test loop\n",
        "\n",
        "                # Calculate accuracy\n",
        "                # Accuracy needs labels to labels\n",
        "                test_preds = torch.softmax(test_logits,dim=1).argmax(dim=1)\n",
        "                test_acc += accuracy_fn(y_true=test_targets,\n",
        "                                       y_pred= test_preds)\n",
        "\n",
        "            # Calculate test loss average per batch\n",
        "            test_loss /= len(test_dataloader)\n",
        "            # calculate the acc average per batch\n",
        "            test_acc /=len(test_dataloader)\n",
        "\n",
        "        # Print out whats' happinin'\n",
        "        #print(f\"EPOCH: {epoch} | Loss: {train_loss:.4f}, Acc: {acc:.2f}%  | Test loss: {test_loss:.5f}, acc: {test_acc:.2f}%\")\n",
        "        print(f\"EPOCH: {epoch} | Loss: {train_loss:.4f}  | Test loss: {test_loss:.5f}, acc: {test_acc:.2f}%\")\n",
        "\n",
        "    # Calculate train time\n",
        "    #  My class handles this automatically"
      ]
    },
    {
      "cell_type": "code",
      "execution_count": 43,
      "id": "dacd30cd-55c0-44df-ba59-892830d8b8fe",
      "metadata": {
        "colab": {
          "base_uri": "https://localhost:8080/",
          "height": 388,
          "referenced_widgets": [
            "d8fdd67508414dd29c08de4e8f12ef32",
            "01378f090bd546e48d401732965f5067",
            "431d7b29c7994a3298a2e0d679ebe4de",
            "2e61be13483c42d29bbe600668606025",
            "9762961383b84f23b8e0e3246c664d03",
            "053d77aea0c448e1a0931604588aa3d1",
            "63172b8fa9ea4744869dfd7d461bc6d3",
            "82f94f3b8c9c4dd58d209fa793302173",
            "9f3a8bd909584485a6464e91266f060b",
            "c0ccaf288eb548e09ab4b1f08e73af4c",
            "84c135108f024f0b8d437443847cb9f7"
          ]
        },
        "id": "dacd30cd-55c0-44df-ba59-892830d8b8fe",
        "outputId": "9a067d5a-a628-41b6-9ed6-395458d30984"
      },
      "outputs": [
        {
          "output_type": "display_data",
          "data": {
            "text/plain": [
              "  0%|          | 0/3 [00:00<?, ?it/s]"
            ],
            "application/vnd.jupyter.widget-view+json": {
              "version_major": 2,
              "version_minor": 0,
              "model_id": "d8fdd67508414dd29c08de4e8f12ef32"
            }
          },
          "metadata": {}
        },
        {
          "output_type": "stream",
          "name": "stdout",
          "text": [
            "epoch: 0\n",
            "----\n",
            "Looked at 0/60000 samples\n",
            "Looked at 25600/60000 samples\n",
            "Looked at 51200/60000 samples\n",
            "EPOCH: 0 | Loss: 0.4409  | Test loss: 0.00197, acc: 83.50%\n",
            "epoch: 1\n",
            "----\n",
            "Looked at 0/60000 samples\n",
            "Looked at 25600/60000 samples\n",
            "Looked at 51200/60000 samples\n",
            "EPOCH: 1 | Loss: 0.4336  | Test loss: 0.00185, acc: 82.10%\n",
            "epoch: 2\n",
            "----\n",
            "Looked at 0/60000 samples\n",
            "Looked at 25600/60000 samples\n",
            "Looked at 51200/60000 samples\n",
            "EPOCH: 2 | Loss: 0.4254  | Test loss: 0.00227, acc: 83.69%\n",
            "Elapsed time on cpu device: 25.0134 seconds\n"
          ]
        }
      ],
      "source": [
        "# Import tqdm for progress bar\n",
        "from tqdm.auto import tqdm\n",
        "# set seed and start timer\n",
        "torch.manual_seed(42)\n",
        "# set epochs small for faster training time\n",
        "epochs = 3\n",
        "with Timer(device) as timer: #optional parameter for listing device used\n",
        "    train_loop(epochs)\n",
        "total_train_time_model_0 = timer.elapsed_time"
      ]
    },
    {
      "cell_type": "markdown",
      "id": "e6b6732a-c7f6-4fa3-b77f-3949a6430170",
      "metadata": {
        "id": "e6b6732a-c7f6-4fa3-b77f-3949a6430170"
      },
      "source": [
        "## 4. Make prediction and get model_0 results  \n",
        "[Chapter 104](https://youtu.be/V_xro1bcAuA&t=58696)"
      ]
    },
    {
      "cell_type": "code",
      "execution_count": 44,
      "id": "491db210-8138-47d5-83e9-9da580b15dcf",
      "metadata": {
        "id": "491db210-8138-47d5-83e9-9da580b15dcf"
      },
      "outputs": [],
      "source": [
        "torch.manual_seed(42)\n",
        "def eval_model(model:nn.Module,\n",
        "              data_loader: torch.utils.data.DataLoader,\n",
        "              loss_fn: torch.nn.Module,\n",
        "              accuracy_fn,\n",
        "              device = 'cpu'):\n",
        "    \"\"\"Returns a dictionary containing the results of model predicting on data_loader.\n",
        "\n",
        "    Args:\n",
        "        model (torch.nn.Module): A PyTorch model capable of making predictions on data_loader.\n",
        "        data_loader (torch.utils.data.DataLoader): The target dataset to predict on.\n",
        "        loss_fn (torch.nn.Module): The loss function of model.\n",
        "        accuracy_fn: An accuracy function to compare the models predictions to the truth labels.\n",
        "\n",
        "    Returns:\n",
        "        (dict): Results of model making predictions on data_loader.\n",
        "    \"\"\"\n",
        "    loss, acc = 0, 0\n",
        "    model.to(device)\n",
        "    model.eval()\n",
        "    with torch.inference_mode():\n",
        "        for X, y in tqdm(data_loader):\n",
        "            X, y = X.to(device), y.to(device)\n",
        "            # Make predictions\n",
        "            y_pred = model(X)\n",
        "\n",
        "            # Accumulate the loss and acc values per batch\n",
        "            loss += loss_fn(y_pred, y)\n",
        "             # For accuracy, need the prediction labels (logits -> pred_prob -> pred_labels)\n",
        "            acc += accuracy_fn(y_true=y,\n",
        "                              y_pred=y_pred.argmax(dim=1))\n",
        "\n",
        "        # Scale loss and acc to get the average per batch\n",
        "        loss /= len(data_loader)\n",
        "        acc /= len(data_loader)\n",
        "\n",
        "\n",
        "    return {\"model_name\": model.__class__.__name__, # only works when model was created with a class\n",
        "            \"model_loss\": loss.item(),\n",
        "            \"model_acc\": acc,\n",
        "            \"device\" : device }\n",
        "\n"
      ]
    },
    {
      "cell_type": "code",
      "execution_count": 47,
      "id": "ef07da9e-d74f-4cad-8d5b-f259a1c14d1c",
      "metadata": {
        "colab": {
          "base_uri": "https://localhost:8080/",
          "height": 120,
          "referenced_widgets": [
            "81aa75b793bd4b64b4782d4b36441d9a",
            "752ebac5c0024e86a179767f1eb0892b",
            "2290fa4c51bc4fcaa95b462832e9fde7",
            "e2f7d4f2a04f4ed4b6e5a7001c99807d",
            "6541cbe564504e15bef9f2a436a05bc1",
            "a0f9d6edde734dc5970954bb5460a0d3",
            "2f38f3f3bc564ebf92a35775e0d7b8c6",
            "ae6ac5549f054948bd3b6801649b352c",
            "2f3dfe0ae8e947e59d08250f28bf402f",
            "84fa1b5c24404feb8d99b6d93c748f4b",
            "c29b6b5497a3439fb0e6cf5faa155d2b"
          ]
        },
        "id": "ef07da9e-d74f-4cad-8d5b-f259a1c14d1c",
        "outputId": "678ef7f5-fdb9-44d2-ca86-252287717a2b"
      },
      "outputs": [
        {
          "output_type": "display_data",
          "data": {
            "text/plain": [
              "  0%|          | 0/157 [00:00<?, ?it/s]"
            ],
            "application/vnd.jupyter.widget-view+json": {
              "version_major": 2,
              "version_minor": 0,
              "model_id": "81aa75b793bd4b64b4782d4b36441d9a"
            }
          },
          "metadata": {}
        },
        {
          "output_type": "execute_result",
          "data": {
            "text/plain": [
              "{'model_name': 'FashionMNISTModel_V0',\n",
              " 'model_loss': 0.47066444158554077,\n",
              " 'model_acc': 83.68829617834395,\n",
              " 'device': 'cpu'}"
            ]
          },
          "metadata": {},
          "execution_count": 47
        }
      ],
      "source": [
        "# Calculate model_0 results on test dataset\n",
        "# note: loss function should be CrossEntropy for this model\n",
        "model_0_results = eval_model(model=model_0, data_loader=test_dataloader,\n",
        "                            loss_fn=loss_fn, accuracy_fn=accuracy_fn\n",
        ")\n",
        "model_0_results"
      ]
    },
    {
      "cell_type": "markdown",
      "id": "35e34297-29f4-4e00-b86f-d185b9080496",
      "metadata": {
        "id": "35e34297-29f4-4e00-b86f-d185b9080496"
      },
      "source": [
        "## 5. Setup device-agnostic code\n",
        "\n",
        "[chapter 105](https://youtu.be/V_xro1bcAuA&t=59187)"
      ]
    },
    {
      "cell_type": "code",
      "execution_count": 46,
      "id": "ab6d8c3d-c88f-48c9-b94a-b831ddcd6cb4",
      "metadata": {
        "colab": {
          "base_uri": "https://localhost:8080/",
          "height": 35
        },
        "id": "ab6d8c3d-c88f-48c9-b94a-b831ddcd6cb4",
        "outputId": "a19226c0-2802-4b4c-8c15-a8bba454a76d"
      },
      "outputs": [
        {
          "output_type": "execute_result",
          "data": {
            "text/plain": [
              "'cuda'"
            ],
            "application/vnd.google.colaboratory.intrinsic+json": {
              "type": "string"
            }
          },
          "metadata": {},
          "execution_count": 46
        }
      ],
      "source": [
        "# We need device agnistic code\n",
        "device = \"cuda\" if torch.cuda.is_available() else \"cpu\"\n",
        "#device=\"cpu\"\n",
        "device"
      ]
    },
    {
      "cell_type": "markdown",
      "id": "2ddf9a24-a943-44d2-8a84-b11852fc520e",
      "metadata": {
        "id": "2ddf9a24-a943-44d2-8a84-b11852fc520e"
      },
      "source": [
        "## 6. Building a better model with non-linearity\n",
        "[chapter 106](https://youtu.be/V_xro1bcAuA&t=59415)\n"
      ]
    },
    {
      "cell_type": "code",
      "execution_count": 53,
      "id": "f0392cc8-c407-4554-9581-90f891fffd93",
      "metadata": {
        "id": "f0392cc8-c407-4554-9581-90f891fffd93"
      },
      "outputs": [],
      "source": [
        "IN_SHAPE = 784  #28*28 flattened image\n",
        "OUT_SHAPE = len(class_names)\n",
        "HIDDEN_UNITS = 16  # magic number to play with\n",
        "\n",
        "from torch import nn\n",
        "class FashionMNISTModel_V1(nn.Module):\n",
        "    def __init__(self,\n",
        "                input_shape: int,\n",
        "                hidden_shape: int,\n",
        "                output_shape: int):\n",
        "        super().__init__()\n",
        "        self.layer_stack= nn.Sequential(\n",
        "            nn.Flatten(),\n",
        "            nn.Linear(in_features=input_shape,\n",
        "                     out_features=hidden_shape),\n",
        "            nn.Sigmoid(),\n",
        "            nn.Linear(in_features=hidden_shape,\n",
        "                     out_features=hidden_shape),\n",
        "            nn.Sigmoid(),\n",
        "            nn.Linear(in_features=hidden_shape,\n",
        "                     out_features=output_shape),\n",
        "            nn.ReLU()\n",
        "\n",
        "\n",
        "        )\n",
        "\n",
        "    def forward(self,x):\n",
        "        return self.layer_stack(x)\n",
        "\n"
      ]
    },
    {
      "cell_type": "code",
      "execution_count": 54,
      "id": "0b2bf659-837d-4f11-a830-a126e6895130",
      "metadata": {
        "colab": {
          "base_uri": "https://localhost:8080/"
        },
        "id": "0b2bf659-837d-4f11-a830-a126e6895130",
        "outputId": "9cc9ac53-97a2-440a-d850-29f3a2ae3c73"
      },
      "outputs": [
        {
          "output_type": "execute_result",
          "data": {
            "text/plain": [
              "FashionMNISTModel_V1(\n",
              "  (layer_stack): Sequential(\n",
              "    (0): Flatten(start_dim=1, end_dim=-1)\n",
              "    (1): Linear(in_features=784, out_features=16, bias=True)\n",
              "    (2): Sigmoid()\n",
              "    (3): Linear(in_features=16, out_features=16, bias=True)\n",
              "    (4): Sigmoid()\n",
              "    (5): Linear(in_features=16, out_features=10, bias=True)\n",
              "    (6): ReLU()\n",
              "  )\n",
              ")"
            ]
          },
          "metadata": {},
          "execution_count": 54
        }
      ],
      "source": [
        "# setup model with my HParam\n",
        "model_1 = FashionMNISTModel_V1(IN_SHAPE, HIDDEN_UNITS, OUT_SHAPE)\n",
        "model_1"
      ]
    },
    {
      "cell_type": "markdown",
      "id": "44bb5a33-4092-4154-ab49-803ef1c087dd",
      "metadata": {
        "id": "44bb5a33-4092-4154-ab49-803ef1c087dd"
      },
      "source": [
        "### 6.1 Setup loss, optimizer and evaluation metrics |[chapter 107](https://youtu.be/V_xro1bcAuA&t=59958)"
      ]
    },
    {
      "cell_type": "code",
      "execution_count": 55,
      "id": "71691dd2-86ea-417f-be3a-f365c3140164",
      "metadata": {
        "id": "71691dd2-86ea-417f-be3a-f365c3140164"
      },
      "outputs": [],
      "source": [
        "from helper_functions import accuracy_fn\n",
        "\n",
        "# set up loss and optimizer\n",
        "loss_fn_1 = nn.CrossEntropyLoss()\n",
        "optimizer_1 = torch.optim.SGD(params=model_1.parameters(),\n",
        "                           lr=0.1)"
      ]
    },
    {
      "cell_type": "markdown",
      "id": "304d97b2-f0f2-4bc4-b666-ac01c780f2a2",
      "metadata": {
        "id": "304d97b2-f0f2-4bc4-b666-ac01c780f2a2"
      },
      "source": [
        "### 6.2 functionalizing train, test loops\n",
        "[chapter 108](https://youtu.be/V_xro1bcAuA&t=60143)"
      ]
    },
    {
      "cell_type": "code",
      "execution_count": 56,
      "id": "abb9fd48-9f8b-40bd-b422-fe6a4689737a",
      "metadata": {
        "id": "abb9fd48-9f8b-40bd-b422-fe6a4689737a"
      },
      "outputs": [],
      "source": [
        "\"\"\"\n",
        "Training loop function\n",
        "\"\"\"\n",
        "def train_step(model:nn.Module,\n",
        "                data_loader: torch.utils.data.DataLoader,\n",
        "                loss_fn: nn.Module,\n",
        "                optimizer: torch.optim.Optimizer,\n",
        "                accuracy_fn,\n",
        "                device: torch.device = device\n",
        "              ):\n",
        "    train_loss, train_acc = 0, 0\n",
        "\n",
        "    # get all data  on device\n",
        "    model.to(device)\n",
        "\n",
        "    for batch, (X,targets) in enumerate(data_loader):\n",
        "        X ,targets = X.to(device), targets.to(device)\n",
        "\n",
        "        model.train()\n",
        "        # 1. forward pass\n",
        "        train_pred = model(X)\n",
        "\n",
        "        # 2. Calculate the loss (per Batch)\n",
        "        loss = loss_fn(train_pred, targets)\n",
        "        train_loss += loss\n",
        "        train_acc += accuracy_fn(y_true=targets,\n",
        "                                 y_pred= train_pred.argmax(dim=1))\n",
        "\n",
        "\n",
        "        # Optimizer.zero_grad\n",
        "        optimizer.zero_grad()\n",
        "\n",
        "        # 4. loss backward\n",
        "        loss.backward()\n",
        "\n",
        "        # 5. Optimizer step\n",
        "        optimizer.step()\n",
        "\n",
        "    # Divide total train loss and accuracy by length of number of batches\n",
        "    train_loss /= len(data_loader)\n",
        "    train_acc /= len(data_loader)\n",
        "    print(f\"Train Loss: {train_loss:.4f}  | Train accuracy: {train_acc:.2f}%\")\n",
        "\n"
      ]
    },
    {
      "cell_type": "markdown",
      "id": "6a3e8746-d361-4575-a221-193febb8812d",
      "metadata": {
        "id": "6a3e8746-d361-4575-a221-193febb8812d"
      },
      "source": [
        "### 6.3 functionalizing test loops\n",
        "[chapter 109](https://youtu.be/V_xro1bcAuA&t=60653)"
      ]
    },
    {
      "cell_type": "code",
      "execution_count": 57,
      "id": "3933954a-9274-4ea5-8ab3-53b2379017f9",
      "metadata": {
        "id": "3933954a-9274-4ea5-8ab3-53b2379017f9"
      },
      "outputs": [],
      "source": [
        "\"\"\"\n",
        "Test loop function\n",
        "\"\"\"\n",
        "def test_step(model:nn.Module,\n",
        "              data_loader: torch.utils.data.DataLoader,\n",
        "              loss_fn: nn.Module,\n",
        "              accuracy_fn,\n",
        "              device: torch.device = device):\n",
        "    test_loss, test_acc = 0, 0\n",
        "    model.to(device)\n",
        "    model.eval() # put model in eval mode\n",
        "    # turn on inference context manager\n",
        "    with torch.inference_mode():\n",
        "        for X, targets in data_loader:  # test batches\n",
        "            X = X.to(device)\n",
        "            targets = targets.to(device)\n",
        "            # 1. forward pass\n",
        "            test_pred = model(X)\n",
        "\n",
        "            # 2. Calculate the loss and accuracy\n",
        "            test_loss += loss_fn(test_pred, targets)\n",
        "            # Calculate accuracy\n",
        "            test_acc += accuracy_fn(y_true=targets,\n",
        "                y_pred= test_pred.argmax(dim=1) # logits to labels\n",
        "            )\n",
        "\n",
        "        # Adjust metrics and print out\n",
        "        test_loss /= len(data_loader)\n",
        "        test_acc /=len(data_loader)\n",
        "        print(f\"Test loss: {test_loss:.4f}  | Test accuracy: {test_acc:.2f}%\")\n"
      ]
    },
    {
      "cell_type": "markdown",
      "id": "4a9e9d29-c986-4162-8d09-e9d9377a377f",
      "metadata": {
        "id": "4a9e9d29-c986-4162-8d09-e9d9377a377f"
      },
      "source": [
        "### 6.4 Model 1: Training and testing with our train and test step functions\n",
        "[chapter 110](https://youtu.be/V_xro1bcAuA&t=61050)\n",
        "get_timestamp(16,57,30)"
      ]
    },
    {
      "cell_type": "code",
      "execution_count": 59,
      "id": "505ba4c3-cede-4b2b-9415-e9497778ce2a",
      "metadata": {
        "colab": {
          "base_uri": "https://localhost:8080/",
          "height": 233
        },
        "id": "505ba4c3-cede-4b2b-9415-e9497778ce2a",
        "outputId": "e9141909-063a-4efe-ae82-781274e0ca2a"
      },
      "outputs": [
        {
          "output_type": "error",
          "ename": "NameError",
          "evalue": "name 'get_timer' is not defined",
          "traceback": [
            "\u001b[0;31m---------------------------------------------------------------------------\u001b[0m",
            "\u001b[0;31mNameError\u001b[0m                                 Traceback (most recent call last)",
            "\u001b[0;32m<ipython-input-59-8f6d9d999e8b>\u001b[0m in \u001b[0;36m<cell line: 14>\u001b[0;34m()\u001b[0m\n\u001b[1;32m     12\u001b[0m \u001b[0;34m\u001b[0m\u001b[0m\n\u001b[1;32m     13\u001b[0m \u001b[0mepochs\u001b[0m \u001b[0;34m=\u001b[0m \u001b[0;36m3\u001b[0m\u001b[0;34m\u001b[0m\u001b[0;34m\u001b[0m\u001b[0m\n\u001b[0;32m---> 14\u001b[0;31m \u001b[0;32mwith\u001b[0m \u001b[0mget_timer\u001b[0m\u001b[0;34m(\u001b[0m\u001b[0mdevice\u001b[0m\u001b[0;34m)\u001b[0m \u001b[0;32mas\u001b[0m \u001b[0mtimer\u001b[0m\u001b[0;34m:\u001b[0m \u001b[0;31m#optional parameter for listing device used\u001b[0m\u001b[0;34m\u001b[0m\u001b[0;34m\u001b[0m\u001b[0m\n\u001b[0m\u001b[1;32m     15\u001b[0m     \u001b[0;32mfor\u001b[0m \u001b[0mepoch\u001b[0m \u001b[0;32min\u001b[0m \u001b[0mtqdm\u001b[0m\u001b[0;34m(\u001b[0m\u001b[0mrange\u001b[0m\u001b[0;34m(\u001b[0m\u001b[0mepochs\u001b[0m\u001b[0;34m)\u001b[0m\u001b[0;34m)\u001b[0m\u001b[0;34m:\u001b[0m\u001b[0;34m\u001b[0m\u001b[0;34m\u001b[0m\u001b[0m\n\u001b[1;32m     16\u001b[0m         \u001b[0mprint\u001b[0m\u001b[0;34m(\u001b[0m\u001b[0;34mf\"Epoch: {epoch}\\n---------\"\u001b[0m\u001b[0;34m)\u001b[0m\u001b[0;34m\u001b[0m\u001b[0;34m\u001b[0m\u001b[0m\n",
            "\u001b[0;31mNameError\u001b[0m: name 'get_timer' is not defined"
          ]
        }
      ],
      "source": [
        "# Import tqdm for progress bar DOESN't work in notebook for some reason\n",
        "from tqdm.auto import tqdm\n",
        "# Timer class is now implemented in helper_functions\n",
        "from helper_functions import accuracy_fn\n",
        "#from helper_functions import get_timer\n",
        "# set seed and start timer\n",
        "torch.manual_seed(42)\n",
        "# set epochs small for faster training time\n",
        "\n",
        "train_dataloader.dataset.data.to(device)\n",
        "#test_dataloader = test_dataloader.to(device)\n",
        "\n",
        "epochs = 3\n",
        "with get_timer(device) as timer: #optional parameter for listing device used\n",
        "    for epoch in tqdm(range(epochs)):\n",
        "        print(f\"Epoch: {epoch}\\n---------\")\n",
        "        train_step(data_loader=train_dataloader,\n",
        "            model=model_1,\n",
        "            loss_fn=loss_fn_1,\n",
        "            optimizer=optimizer_1,\n",
        "            accuracy_fn=accuracy_fn\n",
        "        )\n",
        "        test_step(data_loader=test_dataloader,\n",
        "            model=model_1,\n",
        "            loss_fn=loss_fn_1,\n",
        "            accuracy_fn=accuracy_fn\n",
        "        )\n",
        "total_train_time_model_1 = timer.elapsed_time"
      ]
    },
    {
      "cell_type": "markdown",
      "id": "a1e338ab-3816-4832-8b10-ac1c2d607cb6",
      "metadata": {
        "id": "a1e338ab-3816-4832-8b10-ac1c2d607cb6"
      },
      "source": [
        "### 6.5 Evaluating Model 1 device-agnostic eval_model |[chapter 111](https://youtu.be/V_xro1bcAuA&t=61763)\n",
        "\n",
        "I already fixed this in the original version"
      ]
    },
    {
      "cell_type": "code",
      "execution_count": null,
      "id": "8195e7b6-e22f-4817-b3b5-d8349458de31",
      "metadata": {
        "id": "8195e7b6-e22f-4817-b3b5-d8349458de31"
      },
      "outputs": [],
      "source": [
        "# Calculate model_0 results on test dataset\n",
        "# note: loss function should be CrossEntropy for this model\n",
        "model_0_results = eval_model(model=model_0, data_loader=test_dataloader,\n",
        "                            loss_fn=loss_fn, accuracy_fn=accuracy_fn,\n",
        "                             device= device\n",
        ")\n",
        "print(model_0_results)\n",
        "\n",
        "model_1_results = eval_model(model=model_1, data_loader=test_dataloader,\n",
        "                            loss_fn=loss_fn_1, accuracy_fn=accuracy_fn,\n",
        "                             device= device\n",
        ")\n",
        "print(model_1_results)"
      ]
    },
    {
      "cell_type": "code",
      "execution_count": null,
      "id": "a6d5a12c-a67b-4921-8f09-44088953fee9",
      "metadata": {
        "id": "a6d5a12c-a67b-4921-8f09-44088953fee9"
      },
      "outputs": [],
      "source": [
        "total_train_time_model_0,total_train_time_model_1\n"
      ]
    },
    {
      "cell_type": "code",
      "execution_count": null,
      "id": "0eae0007-e3d2-44cc-ba05-67e2f3ce422a",
      "metadata": {
        "id": "0eae0007-e3d2-44cc-ba05-67e2f3ce422a"
      },
      "outputs": [],
      "source": [
        "!nvidia-smi\n"
      ]
    },
    {
      "cell_type": "markdown",
      "id": "30090554-8154-4456-ba9e-2bf820907701",
      "metadata": {
        "id": "30090554-8154-4456-ba9e-2bf820907701"
      },
      "source": [
        "## 7. Model 2 Building a convolutional model  [chapter 112](https://youtu.be/V_xro1bcAuA&t=62012)  \n",
        "\n",
        "Time to create a Convolutional Neural Network better know as a CNN (also know as ConvNet).\n",
        "We will duplicate the TinyVGG model depicted on [cnn explainer](https://poloclub.github.io/cnn-explainer/)"
      ]
    },
    {
      "cell_type": "code",
      "execution_count": null,
      "id": "be66f64d-a49a-4426-9bfa-ca9474a81ab6",
      "metadata": {
        "id": "be66f64d-a49a-4426-9bfa-ca9474a81ab6"
      },
      "outputs": [],
      "source": [
        "# Create device-agnostic code\n",
        "device = 'cuda' if torch.cuda.is_available() else 'cpu'"
      ]
    },
    {
      "cell_type": "code",
      "execution_count": null,
      "id": "288529c8-479a-41be-939a-f033b12b4689",
      "metadata": {
        "id": "288529c8-479a-41be-939a-f033b12b4689"
      },
      "outputs": [],
      "source": [
        "# Create a convolution neural network\n",
        "class FashionMNISTModel_V2(nn.Module):\n",
        "    \"\"\"\n",
        "    Model archicture copying TinyVGG from:\n",
        "    https://poloclub.github.io/cnn-explainer/\n",
        "    \"\"\"\n",
        "    def __init__(self, input_shape: int, hidden_units:int, output_shape: int):\n",
        "        super().__init__()\n",
        "        self.block_1 = nn.Sequential(\n",
        "            nn.Conv2d( in_channels=input_shape,\n",
        "                     out_channels=hidden_units,\n",
        "                     kernel_size=3,\n",
        "                     stride=1,\n",
        "                     padding=1),\n",
        "            nn.ReLU(),\n",
        "            nn.Conv2d( in_channels=hidden_units,\n",
        "                     out_channels=hidden_units,\n",
        "                     kernel_size=3,\n",
        "                     stride=1,\n",
        "                     padding=1),\n",
        "            nn.ReLU(),\n",
        "            nn.MaxPool2d(kernel_size=2,\n",
        "                         stride=2) # default stride is same as kernel size\n",
        "        )\n",
        "        self.block_2 = nn.Sequential(\n",
        "            nn.Conv2d(hidden_units, hidden_units, 3, padding=1),\n",
        "            nn.ReLU(),\n",
        "            nn.Conv2d(hidden_units, hidden_units, 3, padding=1),\n",
        "            nn.ReLU(),\n",
        "            nn.MaxPool2d(2)\n",
        "        )\n",
        "\n",
        "        # to figure out the input shape for the linear layer since each layer above shrinks\n",
        "        # the image down, run a test image throught the first 2 layers and multiply the shape values together\n",
        "        self.classifier = nn.Sequential(\n",
        "            nn.Flatten(), # default is dim=1, makes sense when we want to flatten an image but leave the color(zero dim alone)\n",
        "            # Where did this in_features shape come from?\n",
        "            # It's because each layer of our network compresses and changes the shape of our input data.\n",
        "            nn.Linear(in_features=hidden_units*7*7,\n",
        "                      out_features=output_shape)\n",
        "        )\n",
        "\n",
        "\n",
        "    # change this to fusion code to make gpu go brrr\n",
        "    def forward(self, x: torch.Tensor):\n",
        "        return self.classifier(self.block_2(self.block_1(x)))\n",
        "        #print(f\"shape being passed to block_1: {x.shape}\")\n",
        "        #x = self.block_1(x)\n",
        "        #print(f\"shape being passed to block_2: {x.shape}\")\n",
        "        #x = self.block_2(x)\n",
        "        #print(f\"shape being passed to block_3: {x.shape}\")\n",
        "        #x = self.block_3(x)\n",
        "        #print(f\"shape being passed to classifier: {x.shape}\")\n",
        "        #x = self.classifier(x)\n",
        "        #print(x.shape)\n",
        "        #return x\n"
      ]
    },
    {
      "cell_type": "code",
      "execution_count": null,
      "id": "eecae10c-e07f-4cef-ad02-d6a58080a2e0",
      "metadata": {
        "id": "eecae10c-e07f-4cef-ad02-d6a58080a2e0"
      },
      "outputs": [],
      "source": [
        "\n",
        "torch.manual_seed(42)\n",
        "model_2 = FashionMNISTModel_V2(input_shape=1,\n",
        "    hidden_units=10,\n",
        "    output_shape=len(class_names)).to(device)\n",
        "\n",
        "model_2"
      ]
    },
    {
      "cell_type": "markdown",
      "id": "90c77e7a-357a-4cc4-a335-17dc2fa8779c",
      "metadata": {
        "id": "90c77e7a-357a-4cc4-a335-17dc2fa8779c"
      },
      "source": [
        "Nice!\n",
        "\n",
        "Our biggest model yet!\n",
        "\n",
        "What we've done is a common practice in machine learning.\n",
        "\n",
        "Find a model architecture somewhere and replicate it with code."
      ]
    },
    {
      "cell_type": "markdown",
      "id": "4311a62b-c323-4158-b408-0cf5c61138a1",
      "metadata": {
        "id": "4311a62b-c323-4158-b408-0cf5c61138a1"
      },
      "source": [
        "### 7.1 Stepping through `nn.Conv2d()`\n",
        "\n",
        "We could start using our model above and see what happens but let's first step through the two new layers we've added:\n",
        "* [`nn.Conv2d()`](https://pytorch.org/docs/stable/generated/torch.nn.Conv2d.html), also known as a convolutional layer.\n",
        "* [`nn.MaxPool2d()`](https://pytorch.org/docs/stable/generated/torch.nn.MaxPool2d.html), also known as a max pooling layer.\n",
        "\n",
        "> **Question:** What does the \"2d\" in `nn.Conv2d()` stand for?\n",
        ">\n",
        "> The 2d is for 2-dimensional data. As in, our images have two dimensions: height and width. Yes, there's color channel dimension but each of the color channel dimensions have two dimensions too: height and width.\n",
        ">\n",
        "> For other dimensional data (such as 1D for text or 3D for 3D objects) there's also `nn.Conv1d()` and `nn.Conv3d()`.\n",
        "\n",
        "To test the layers out, let's create some toy data just like the data used on CNN Explainer."
      ]
    },
    {
      "cell_type": "code",
      "execution_count": null,
      "id": "3f335a03-86b5-4e88-a6a6-4084a7f87ee4",
      "metadata": {
        "id": "3f335a03-86b5-4e88-a6a6-4084a7f87ee4"
      },
      "outputs": [],
      "source": [
        "import torch\n",
        "from torch import nn\n",
        "import matplotlib.pyplot as plt\n",
        "\n",
        "torch.manual_seed(42)\n",
        "\n",
        "# Create sample batch of random numbers with same size as image batch\n",
        "images = torch.randn(size=(32, 3, 64, 64)) # [batch_size, color_channels, height, width]\n",
        "test_image = images[0] # get a single image for testing\n",
        "print(f\"Image batch shape: {images.shape} -> [batch_size, color_channels, height, width]\")\n",
        "print(f\"Single image shape: {test_image.shape} -> [color_channels, height, width]\")\n",
        "print(f\"Single image pixel values:\\n{test_image}\")"
      ]
    },
    {
      "cell_type": "markdown",
      "id": "dfa75bc1-12a8-49a6-9acf-548b8ffdee65",
      "metadata": {
        "id": "dfa75bc1-12a8-49a6-9acf-548b8ffdee65"
      },
      "source": [
        "Let's create an example `nn.Conv2d()` with various parameters:\n",
        "* `in_channels` (int) - Number of channels in the input image.\n",
        "* `out_channels` (int) - Number of channels produced by the convolution.\n",
        "* `kernel_size` (int or tuple) - Size of the convolving kernel/filter.\n",
        "* `stride` (int or tuple, optional) - How big of a step the convolving kernel takes at a time. Default: 1.\n",
        "* `padding` (int, tuple, str) - Padding added to all four sides of input. Default: 0.\n",
        "\n",
        "![example of going through the different parameters of a Conv2d layer](https://raw.githubusercontent.com/mrdbourke/pytorch-deep-learning/main/images/03-conv2d-layer.gif)\n",
        "\n",
        "*Example of what happens when you change the hyperparameters of a `nn.Conv2d()` layer.*"
      ]
    },
    {
      "cell_type": "code",
      "execution_count": null,
      "id": "7e6ac917-5829-42ec-af54-cd3de112c567",
      "metadata": {
        "id": "7e6ac917-5829-42ec-af54-cd3de112c567"
      },
      "outputs": [],
      "source": [
        "torch.manual_seed(42)\n",
        "\n",
        "#Create a CNN with the same dimensionas TinyVGG\n",
        "\n",
        "conv_layer = nn.Conv2d(in_channels=3,\n",
        "                      out_channels=10,\n",
        "                      kernel_size=3,\n",
        "                      stride=1,\n",
        "                      padding=0) # also try using \"valid\" or \"same\" here\n",
        "out =conv_layer(test_image)\n",
        "test_image.shape, out.shape"
      ]
    },
    {
      "cell_type": "code",
      "execution_count": null,
      "id": "7ef28932-49c3-4816-b92b-0c6e58a299ab",
      "metadata": {
        "id": "7ef28932-49c3-4816-b92b-0c6e58a299ab"
      },
      "outputs": [],
      "source": []
    },
    {
      "cell_type": "code",
      "execution_count": null,
      "id": "d2f661ba-0ceb-4d64-ab66-3619a1d45a90",
      "metadata": {
        "id": "d2f661ba-0ceb-4d64-ab66-3619a1d45a90"
      },
      "outputs": [],
      "source": [
        "conv_layer.state_dict()"
      ]
    },
    {
      "cell_type": "code",
      "execution_count": null,
      "id": "bc747868-fa7c-40c6-8c16-66dee2bfad49",
      "metadata": {
        "id": "bc747868-fa7c-40c6-8c16-66dee2bfad49"
      },
      "outputs": [],
      "source": [
        "# Get shapes of weight and bias tensors within conv_layer_2\n",
        "print(f\"conv_layer weight shape: \\n{conv_layer.weight.shape} -> [out_channels=10, in_channels=3, kernel_size=5, kernel_size=5]\")\n",
        "print(f\"\\nconv_layer bias shape: \\n{conv_layer.bias.shape} -> [out_channels=10]\")"
      ]
    },
    {
      "cell_type": "markdown",
      "id": "7f454c6f-f2b0-4140-9315-888166872731",
      "metadata": {
        "id": "7f454c6f-f2b0-4140-9315-888166872731"
      },
      "source": [
        "### 7.2 Stepping through `nn.MaxPool2d()` [chapter 115](https://youtu.be/V_xro1bcAuA&t=64606)  \n",
        "\n",
        "Now let's check out what happens when we move data through `nn.MaxPool2d()`."
      ]
    },
    {
      "cell_type": "code",
      "execution_count": null,
      "id": "e604f590-019e-4ef4-8366-d9e3367b19b9",
      "metadata": {
        "id": "e604f590-019e-4ef4-8366-d9e3367b19b9"
      },
      "outputs": [],
      "source": [
        "# Print out original image shape without and with unsqueezed dimension\n",
        "print(f\"Test image original shape: {test_image.shape}\")\n",
        "print(f\"Test image with unsqueezed dimension: {test_image.unsqueeze(dim=0).shape}\")\n",
        "\n",
        "# newer versions of Conv2d accept either a batch of images or a single image# Create a sample nn.MaxPoo2d() layer\n",
        "max_pool_layer = nn.MaxPool2d(kernel_size=2)\n",
        "\n",
        "# Pass data through just the conv_layer\n",
        "test_image_through_conv = conv_layer(test_image.unsqueeze(dim=0))\n",
        "print(f\"Shape after going through conv_layer(): {test_image_through_conv.shape}\")\n",
        "\n",
        "# now pass the data thru the maxpool layer\n",
        "test_image_through_conv_and_max_pool = max_pool_layer(test_image_through_conv)\n",
        "print(f\"Shape after passing through the maxPool layer: {test_image_through_conv_and_max_pool.shape}\")"
      ]
    },
    {
      "cell_type": "markdown",
      "id": "aee31e2d-c6eb-4163-855f-30f5e54c4803",
      "metadata": {
        "id": "aee31e2d-c6eb-4163-855f-30f5e54c4803"
      },
      "source": [
        "Notice the change in the shapes of what's happening in and out of a `nn.MaxPool2d()` layer.\n",
        "\n",
        "The `kernel_size` of the `nn.MaxPool2d()` layer will affect the size of the output shape.\n",
        "\n",
        "In our case, the shape halves from a `62x62` image to `31x31` image.\n",
        "\n",
        "Let's see this work with a smaller tensor."
      ]
    },
    {
      "cell_type": "code",
      "execution_count": null,
      "id": "5743e843-eb56-489e-be1e-edd044558969",
      "metadata": {
        "id": "5743e843-eb56-489e-be1e-edd044558969"
      },
      "outputs": [],
      "source": [
        "torch.manual_seed(42)\n",
        "# Create a random tensor with similiar number of dimension to our images\n",
        "random_tensor = torch.randn(size=(1,1,2,2))\n",
        "print(f\"Random_tensor:\\n{random_tensor}\")\n",
        "print(f\"Random_tensor shape :{random_tensor.shape}\")\n",
        "\n",
        "# Pass the random tensor through the max pool layer\n",
        "max_pool_tensor = max_pool_layer(random_tensor)\n",
        "print(f\"\\nMax pool tensor:\\n{max_pool_tensor} <- this is the maximum value from random_tensor\")\n",
        "print(f\"Max pool tensor shape: {max_pool_tensor.shape}\")"
      ]
    },
    {
      "cell_type": "markdown",
      "id": "d63b2559-2f80-4d81-b759-709ebab3a2e0",
      "metadata": {
        "id": "d63b2559-2f80-4d81-b759-709ebab3a2e0"
      },
      "source": [
        "### 7.3 Setup a loss function and optimizer for `model_2` | [chapter 117](https://youtu.be/V_xro1bcAuA&t=66383)\n",
        "\n",
        "We've stepped through the layers in our first CNN enough.\n",
        "\n",
        "But remember, if something still isn't clear, try starting small.\n",
        "\n",
        "Pick a single layer of a model, pass some data through it and see what happens.\n",
        "\n",
        "Now it's time to move forward and get to training!\n",
        "\n",
        "Let's setup a loss function and an optimizer.\n",
        "\n",
        "We'll use the functions as before, `nn.CrossEntropyLoss()` as the loss function (since we're working with multi-class classification data).\n",
        "\n",
        "And `torch.optim.SGD()` as the optimizer to optimize `model_2.parameters()` with a learning rate of `0.1`."
      ]
    },
    {
      "cell_type": "code",
      "execution_count": null,
      "id": "46f6a45d-fcd4-4e00-8ed6-eb0300e7e651",
      "metadata": {
        "id": "46f6a45d-fcd4-4e00-8ed6-eb0300e7e651"
      },
      "outputs": [],
      "source": [
        "# Setup loss function/eval metrics/optimizer\n",
        "from tqdm.auto import tqdm\n",
        "# Timer class is now implemented in helper_functions\n",
        "from helper_functions import accuracy_fn,get_timer\n",
        "# Setup loss and optimizer\n",
        "loss_fn_2 = nn.CrossEntropyLoss()\n",
        "optimizer_2 = torch.optim.SGD(params=model_2.parameters(),\n",
        "                             lr=0.1)"
      ]
    },
    {
      "cell_type": "code",
      "execution_count": null,
      "id": "a3dd288a-bf16-4c26-9525-8ef7cf693861",
      "metadata": {
        "id": "a3dd288a-bf16-4c26-9525-8ef7cf693861"
      },
      "outputs": [],
      "source": [
        "list(model_2.parameters())[0].device"
      ]
    },
    {
      "cell_type": "code",
      "execution_count": null,
      "id": "06cceada-a0cc-464e-9ba0-55e9915612f3",
      "metadata": {
        "id": "06cceada-a0cc-464e-9ba0-55e9915612f3"
      },
      "outputs": [],
      "source": [
        "image_v2,label = train_data[2]\n",
        "print(f\"image_v2.shape: {image_v2.shape}\")\n",
        "print(f\"model is loaded on {list(model_2.parameters())[0].device}\")\n",
        "print(f\"image_v2 is on {image_v2.device}\")\n",
        "\n",
        "#test_image.to(device)\n",
        "pred = model_2 (image_v2.unsqueeze(dim=0).to(device))\n",
        "#print (f\"\\n{pred}\")\n",
        "#plt.imshow(pred[0].detach().to('cpu'), cmap=\"gray\")\n",
        "#plt.title(class_names[label])"
      ]
    },
    {
      "cell_type": "code",
      "execution_count": null,
      "id": "19377337-d43c-412e-a2c8-34dedb21e8af",
      "metadata": {
        "id": "19377337-d43c-412e-a2c8-34dedb21e8af"
      },
      "outputs": [],
      "source": [
        "#print (model_2.image_block_1.shape)\n",
        "#plt.imshow(model_2.image_block_1[9].to('cpu'), cmap=\"gray\")\n",
        "\n",
        "#print (model_2.image_block_2.shape)\n",
        "#plt.imshow(model_2.image_block_2[0].to('cpu'), cmap=\"gray\")\n",
        "\n",
        "#print (model_2.image_classifier.shape)\n",
        "#plt.imshow(model_2.image_classifier.to('cpu'), cmap=\"gray\")\n",
        "\n",
        "print(pred,label)\n",
        "\n",
        "#plt.title(class_names[label])"
      ]
    },
    {
      "cell_type": "markdown",
      "id": "4fcdeeeb-05b9-472a-926a-8db0cccf7751",
      "metadata": {
        "id": "4fcdeeeb-05b9-472a-926a-8db0cccf7751"
      },
      "source": [
        "### 7.3 Using train and test step functions to train model | [chapter 118](https://youtu.be/V_xro1bcAuA&t=66542)"
      ]
    },
    {
      "cell_type": "code",
      "execution_count": null,
      "id": "211447a5-d05f-4ede-8a6c-bd79ab071e54",
      "metadata": {
        "id": "211447a5-d05f-4ede-8a6c-bd79ab071e54"
      },
      "outputs": [],
      "source": [
        "\n",
        "# set seed and start timer\n",
        "#torch.manual_seed(42)\n",
        "\n",
        "#train_dataloader.dataset.data.to(device)\n",
        "\n",
        "model_2.to(device)\n",
        "epochs = 3\n",
        "with get_timer(device) as timer: #optional parameter for listing device used\n",
        "    for epoch in tqdm(range(epochs)):\n",
        "        print(f\"Epoch: {epoch}\\n---------\")\n",
        "        train_step(data_loader=train_dataloader,\n",
        "            model=model_2,\n",
        "            loss_fn=loss_fn_2,\n",
        "            optimizer=optimizer_2,\n",
        "            accuracy_fn=accuracy_fn\n",
        "        )\n",
        "        test_step(data_loader=test_dataloader,\n",
        "            model=model_2,\n",
        "            loss_fn=loss_fn_2,\n",
        "            accuracy_fn=accuracy_fn\n",
        "        )\n",
        "total_train_time_model_2 = timer.elapsed_time\n",
        "print (f\"Total train time {total_train_time_model_2} on device; {device}\")"
      ]
    },
    {
      "cell_type": "code",
      "execution_count": null,
      "id": "929b958d-7cbc-4d8b-8c67-13e488159364",
      "metadata": {
        "id": "929b958d-7cbc-4d8b-8c67-13e488159364"
      },
      "outputs": [],
      "source": [
        "\n",
        "# Get results for model 2\n",
        "model_2_results = eval_model(model=model_2, data_loader=test_dataloader,\n",
        "                             loss_fn=loss_fn_2, accuracy_fn=accuracy_fn,\n",
        "                             device=device\n",
        ")\n",
        "print( model_2_results)"
      ]
    },
    {
      "cell_type": "code",
      "execution_count": null,
      "id": "6fd8ae02-c8b8-4da6-baae-0fe2c2e20847",
      "metadata": {
        "id": "6fd8ae02-c8b8-4da6-baae-0fe2c2e20847"
      },
      "outputs": [],
      "source": [
        "print( model_0_results)\n",
        "print( model_1_results)\n",
        "print( model_2_results)"
      ]
    },
    {
      "cell_type": "markdown",
      "id": "52cdf56d-56bf-4db0-afd4-cc4e9f828f11",
      "metadata": {
        "id": "52cdf56d-56bf-4db0-afd4-cc4e9f828f11"
      },
      "source": [
        "### 7.4 Comparing results of our modelling experiments | [chapter 119](https://youtu.be/V_xro1bcAuA&t=67017)\n"
      ]
    },
    {
      "cell_type": "code",
      "execution_count": null,
      "id": "454b9893-f874-436f-8f76-f099521f25ee",
      "metadata": {
        "id": "454b9893-f874-436f-8f76-f099521f25ee"
      },
      "outputs": [],
      "source": [
        "import pandas as pd\n",
        "compare_results = pd.DataFrame([model_0_results,\n",
        "                               model_1_results,\n",
        "                               model_2_results])\n",
        "compare_results"
      ]
    },
    {
      "cell_type": "code",
      "execution_count": null,
      "id": "5d25b5ee-d9ec-45ca-aeed-b9f12b5f18be",
      "metadata": {
        "id": "5d25b5ee-d9ec-45ca-aeed-b9f12b5f18be"
      },
      "outputs": [],
      "source": [
        "# Add training time to result comparision\n",
        "compare_results[\"training_time\"] = [total_train_time_model_0,\n",
        "                                   total_train_time_model_1,\n",
        "                                   total_train_time_model_2]\n",
        "compare_results"
      ]
    },
    {
      "cell_type": "code",
      "execution_count": null,
      "id": "8b852977-7534-4640-a251-21011dce6a7a",
      "metadata": {
        "id": "8b852977-7534-4640-a251-21011dce6a7a"
      },
      "outputs": [],
      "source": [
        "# visualize our model results\n",
        "compare_results.set_index('model_name')['model_acc'].plot(kind=\"barh\")\n",
        "plt.xlabel(\"accuracy (%)\")\n",
        "plt.ylabel(\"model\");"
      ]
    },
    {
      "cell_type": "markdown",
      "id": "953e4c6a-3887-4757-86b3-65ad91038aba",
      "metadata": {
        "id": "953e4c6a-3887-4757-86b3-65ad91038aba"
      },
      "source": [
        "## 9. Making Predictions on random test samples with the best trained model | [Chapter 120](https://youtu.be/V_xro1bcAuA&t=67463)\n"
      ]
    },
    {
      "cell_type": "code",
      "execution_count": null,
      "id": "9a94c01f-1383-44d9-9391-e70ec6770f04",
      "metadata": {
        "id": "9a94c01f-1383-44d9-9391-e70ec6770f04"
      },
      "outputs": [],
      "source": [
        "def make_predictions(model: torch.nn.Module,\n",
        "                    data: list,\n",
        "                    device: torch.device = device):\n",
        "    pred_probs = []\n",
        "    model.to(device)\n",
        "    model.eval()\n",
        "    with torch.inference_mode():\n",
        "        for sample in data:\n",
        "            # prepare sample (add a batch dimension and pass to device)\n",
        "            sample = torch.unsqueeze(sample,dim=0).to(device)\n",
        "\n",
        "            # Forward pass\n",
        "            pred_logit = model(sample)\n",
        "\n",
        "            # Get prediction probablilty\n",
        "            pred_prob = torch.softmax(pred_logit.squeeze(),dim=0)\n",
        "\n",
        "            # Get pred_prob off the gpu for further calculations\n",
        "            pred_probs.append(pred_prob.cpu())\n",
        "\n",
        "    # Stack the pred_probs to turn list into a tensor\n",
        "    return torch.stack(pred_probs)\n"
      ]
    },
    {
      "cell_type": "code",
      "execution_count": null,
      "id": "830fab70-7c42-4636-bd16-d09ca999fc32",
      "metadata": {
        "id": "830fab70-7c42-4636-bd16-d09ca999fc32"
      },
      "outputs": [],
      "source": [
        "import random\n",
        "#random.seed(42)\n",
        "test_samples = []\n",
        "test_labels = []\n",
        "for sample, label in random.sample(list(test_data),k=9):\n",
        "    test_samples.append(sample)\n",
        "    test_labels.append(label)\n",
        "\n",
        "#view the first sample shape\n",
        "test_samples[0].shape"
      ]
    },
    {
      "cell_type": "code",
      "execution_count": null,
      "id": "f40a5f0c-ff73-4cda-a8fb-f3554514b198",
      "metadata": {
        "id": "f40a5f0c-ff73-4cda-a8fb-f3554514b198"
      },
      "outputs": [],
      "source": [
        "plt.imshow(test_samples[0].squeeze(), cmap=\"gray\")\n",
        "plt.title(class_names[test_labels[0]])"
      ]
    },
    {
      "cell_type": "code",
      "execution_count": null,
      "id": "71381798-0b85-4166-9b91-9f30d40f5c37",
      "metadata": {
        "id": "71381798-0b85-4166-9b91-9f30d40f5c37"
      },
      "outputs": [],
      "source": [
        "# Make prediction\n",
        "pred_probs = make_predictions(model=model_2,\n",
        "                             data=test_samples)\n",
        "\n",
        "# View the first 2 prediction probabilities\n",
        "pred_probs[:4]"
      ]
    },
    {
      "cell_type": "code",
      "execution_count": null,
      "id": "36d2546d-c05b-4138-94ea-c2672a3366e9",
      "metadata": {
        "id": "36d2546d-c05b-4138-94ea-c2672a3366e9"
      },
      "outputs": [],
      "source": [
        "# convert predictions probabilities to labels\n",
        "pred_classes = pred_probs.argmax(dim=1)\n",
        "pred_classes"
      ]
    },
    {
      "cell_type": "code",
      "execution_count": null,
      "id": "ce6bddab-191d-4873-983d-52f03f56d5fd",
      "metadata": {
        "id": "ce6bddab-191d-4873-983d-52f03f56d5fd"
      },
      "outputs": [],
      "source": [
        "test_labels"
      ]
    },
    {
      "cell_type": "markdown",
      "id": "13b22103-983c-4f94-b46a-8e28440bd8aa",
      "metadata": {
        "id": "13b22103-983c-4f94-b46a-8e28440bd8aa"
      },
      "source": [
        "### 9.1 Plotting our best model predictions on the test set and evaluating them\n",
        "[Chapter 121](https://youtu.be/V_xro1bcAuA&t=68162)"
      ]
    },
    {
      "cell_type": "code",
      "execution_count": null,
      "id": "07d95786-838a-4ee5-8d23-2efb29e0ef7e",
      "metadata": {
        "id": "07d95786-838a-4ee5-8d23-2efb29e0ef7e"
      },
      "outputs": [],
      "source": [
        "plt.figure(figsize=(9,9))\n",
        "nrows = 3\n",
        "ncols = 3\n",
        "for i, sample in enumerate(test_samples):\n",
        "    # Create subplot\n",
        "    plt.subplot(nrows, ncols, i+1)\n",
        "    # Plot the target image\n",
        "    plt.imshow(sample.squeeze(), cmap=\"gray\")\n",
        "\n",
        "    # find the prediction (in text form)\n",
        "    pred_label = class_names[pred_classes[i]]\n",
        "\n",
        "    # Get the truth label (in text form)\n",
        "    truth_label = class_names[test_labels[i]]\n",
        "\n",
        "    # Create a title\n",
        "    title_text = f\"Pred:{pred_label} | Truth: {truth_label}\"\n",
        "\n",
        "    # Check for equality between pred and truth and change color of title text\n",
        "    if pred_label == truth_label:\n",
        "        plt.title(title_text, fontsize=10, c='g') # Green text if prediction was correct\n",
        "    else:\n",
        "        plt.title(title_text, fontsize=10, c='r') # Red text for incorrect prediction\n",
        "\n",
        "    plt.axis(False)\n",
        ""
      ]
    },
    {
      "cell_type": "markdown",
      "id": "03fb3c4c-f51d-4d0d-bfbd-d922b44b5afa",
      "metadata": {
        "id": "03fb3c4c-f51d-4d0d-bfbd-d922b44b5afa"
      },
      "source": [
        "## 10. Making a confusion matrix for further prediction evaluation\n",
        "\n",
        "Making predictions across whole test dataset and importing libraries to plot a confusion matrix | [Chapter 122](https://youtu.be/V_xro1bcAuA&t=68653)\n",
        "A confusion matrix is a fantastic way of evaluating your classification model\n",
        "\n",
        "1. Make Predictions with our trained model on the test dataset\n",
        "2. Make a confusion matrix `torchmetrics.ConfusionMatrix`\n",
        "3. Plot the confusion matrix using `mlxtend.plotting.plot_confusion_matrix()`\n",
        "\n",
        "from command promp in correct virtual environment\n",
        "\n",
        "conda install -c conda-forge torchmetrics\n",
        "conda install -c conda-forge mlxtend"
      ]
    },
    {
      "cell_type": "code",
      "execution_count": null,
      "id": "d75dc5f7-52bb-4569-99af-590cacd8dc1f",
      "metadata": {
        "id": "d75dc5f7-52bb-4569-99af-590cacd8dc1f"
      },
      "outputs": [],
      "source": [
        "# Import tqdm.auto   doesn't work in jupyter\n",
        "from tqdm.auto import tqdm\n",
        "import torchmetrics\n",
        "import mlxtend\n",
        "\n",
        "print(torchmetrics.__version__)\n",
        "# 1. Make predictions with traind model\n",
        "y_preds = []\n",
        "model_2.eval()\n",
        "with torch.inference_mode():\n",
        "    for X, y in tqdm(test_dataloader, desc=\"Making predictions...\"):\n",
        "        # Send data to target device\n",
        "        X, y = X.to(device), y.to(device)\n",
        "\n",
        "        # Forward pass\n",
        "        y_logit = model_2(X)\n",
        "        y_pred = torch.softmax(y_logit.squeeze(), dim=0).argmax(dim=1)\n",
        "        y_preds.append(y_pred.cpu())\n",
        "\n",
        "# Concatenate into a tensor\n",
        "#print(y_preds)\n",
        "y_pred_tensor = torch.cat(y_preds)\n",
        "y_pred_tensor[:5]\n",
        ""
      ]
    },
    {
      "cell_type": "code",
      "execution_count": null,
      "id": "b77207b5-6836-4ed5-a524-97b3eca10def",
      "metadata": {
        "id": "b77207b5-6836-4ed5-a524-97b3eca10def"
      },
      "outputs": [],
      "source": [
        "y_pred_tensor,test_data.targets\n"
      ]
    },
    {
      "cell_type": "markdown",
      "id": "3095b12a-8cae-44a9-9ad9-ce07407a255d",
      "metadata": {
        "id": "3095b12a-8cae-44a9-9ad9-ce07407a255d"
      },
      "source": [
        "[Chapter 123](https://youtu.be/V_xro1bcAuA&t=69574)"
      ]
    },
    {
      "cell_type": "code",
      "execution_count": null,
      "id": "b3914095-cdd4-424c-a6e0-90db6cce4fec",
      "metadata": {
        "id": "b3914095-cdd4-424c-a6e0-90db6cce4fec"
      },
      "outputs": [],
      "source": [
        "from torchmetrics import ConfusionMatrix\n",
        "from mlxtend.plotting import plot_confusion_matrix\n",
        "\n",
        "# 2. setup Confusion instance and compare predictions to targets\n",
        "confmat = ConfusionMatrix(task=\"multiclass\",num_classes=len(class_names))\n",
        "confmat_tensor = confmat(preds=y_pred_tensor,\n",
        "                        target=test_data.targets)\n",
        "\n",
        "#3.Plot the matrix from mlxtend\n",
        "fig, ax = plot_confusion_matrix(\n",
        "    conf_mat=confmat_tensor.numpy(),\n",
        "    class_names=class_names,\n",
        "    figsize=(10,7)\n",
        ")\n",
        "fig, ax"
      ]
    },
    {
      "cell_type": "markdown",
      "id": "13111899-dfc1-4379-8263-ad1bdc9923ac",
      "metadata": {
        "id": "13111899-dfc1-4379-8263-ad1bdc9923ac"
      },
      "source": [
        "## 11. Save and load best performing model. [Chapter 124](https://youtu.be/V_xro1bcAuA&t=69990)"
      ]
    },
    {
      "cell_type": "code",
      "execution_count": null,
      "id": "124e82f0-71a7-4bb0-8eee-962a32af6959",
      "metadata": {
        "id": "124e82f0-71a7-4bb0-8eee-962a32af6959"
      },
      "outputs": [],
      "source": [
        "model_2.state_dict()"
      ]
    },
    {
      "cell_type": "code",
      "execution_count": null,
      "id": "504a5fb7-b4ab-4c50-8321-4627fe4e64eb",
      "metadata": {
        "id": "504a5fb7-b4ab-4c50-8321-4627fe4e64eb"
      },
      "outputs": [],
      "source": [
        "from pathlib import Path\n",
        "\n",
        "# 1. Create models directory   (already exists... do I need to do this step?)\n",
        "MODEL_PATH = Path(\"models\")\n",
        "MODEL_PATH.mkdir(parents=True, exist_ok=True)\n",
        "\n",
        "# 2. Create the model save path\n",
        "MODEL_NAME = \"03_pytorch_computer_vision_model_2.pth\"\n",
        "MODEL_SAVE_PATH = MODEL_PATH / MODEL_NAME\n",
        "\n",
        "# 3. Save the models state_dict\n",
        "print(f\"Saving the model to: {MODEL_SAVE_PATH}\")\n",
        "\n",
        "# only saves the models learned parameters, rebuilding the matrix required the code above\n",
        "# Things I need, model class (loss_fn and optimizers need be the same?)\n",
        "torch.save(obj=model_2.state_dict(),\n",
        "          f=MODEL_SAVE_PATH)\n",
        "# a measly 34.8 KB (35.634 bytes) file compare that to the gpts models"
      ]
    },
    {
      "cell_type": "code",
      "execution_count": null,
      "id": "42e12003-4e63-47ae-be0a-d30d4dd1131c",
      "metadata": {
        "id": "42e12003-4e63-47ae-be0a-d30d4dd1131c"
      },
      "outputs": [],
      "source": [
        "# Check the saved file path\n",
        "# Linux\n",
        "#!ls -l models/\\03_pytorch_computer_vision_model_2.pth\n",
        "#Windows\n",
        "!dir -l models\\\\\\03_pytorch_computer_vision_model_2.pth"
      ]
    },
    {
      "cell_type": "markdown",
      "id": "af540dbc-701d-468f-a448-1f8347f542c8",
      "metadata": {
        "id": "af540dbc-701d-468f-a448-1f8347f542c8"
      },
      "source": [
        "### 11.1 Loading it back in   DON'T lose or change the class definition"
      ]
    },
    {
      "cell_type": "code",
      "execution_count": null,
      "id": "2f4774ad-eb4b-40e7-baa2-36d22b5eb499",
      "metadata": {
        "id": "2f4774ad-eb4b-40e7-baa2-36d22b5eb499"
      },
      "outputs": [],
      "source": [
        "model_2_reloaded = FashionMNISTModel_V2(input_shape=1,\n",
        "                                       hidden_units=10,\n",
        "                                       output_shape=len(class_names))\n",
        "\n",
        "# load in the saved state_dict\n",
        "model_2_reloaded.load_state_dict(torch.load(f=MODEL_SAVE_PATH,\n",
        "                                           weights_only=True))\n",
        "# default is weights_only = False which is unsafe,\n",
        "# any arbitrary code can be loaded and executed\n",
        "# This limits the functions that could be executed during unpickling.\n",
        "# Arbitrary objects will no longer be allowed to be loaded via this mode\n",
        "# unless they are explicitly allowlisted by the user\n",
        "# via `torch.serialization.add_safe_globals`.\n",
        "# We recommend you start setting `weights_only=True` for any use case\n",
        "# where you don't have full control of the loaded file.\n",
        "model_2_reloaded.to(device)"
      ]
    },
    {
      "cell_type": "code",
      "execution_count": null,
      "id": "2aebe863-dfe6-4ad5-a281-c8d922a02d8a",
      "metadata": {
        "id": "2aebe863-dfe6-4ad5-a281-c8d922a02d8a"
      },
      "outputs": [],
      "source": [
        "# use model as above evaluating\n",
        "model_2_results"
      ]
    },
    {
      "cell_type": "code",
      "execution_count": null,
      "id": "fbab1003-2f7c-46d9-ac8b-6d71ef8accbe",
      "metadata": {
        "id": "fbab1003-2f7c-46d9-ac8b-6d71ef8accbe"
      },
      "outputs": [],
      "source": [
        "\n",
        "torch.manual_seed(42)\n",
        "torch.cuda.manual_seed(42)\n",
        "model_2_reloaded_results = eval_model(\n",
        "    model=model_2_reloaded,\n",
        "    data_loader=test_dataloader,\n",
        "    loss_fn=loss_fn,\n",
        "    accuracy_fn=accuracy_fn,\n",
        "    device=device\n",
        ")\n",
        "model_2_reloaded_results"
      ]
    },
    {
      "cell_type": "markdown",
      "id": "e1d9a70d-055c-4a36-92d9-3e85280f5140",
      "metadata": {
        "id": "e1d9a70d-055c-4a36-92d9-3e85280f5140"
      },
      "source": [
        "We can find out if two tensors are close to each other using `torch.isclose()` and passing in a tolerance level of closeness via the parameters `atol` (absolute tolerance) and `rtol` (relative tolerance).\n",
        "\n",
        "If our model's results are close, the output of `torch.isclose()` should be true."
      ]
    },
    {
      "cell_type": "code",
      "execution_count": null,
      "id": "9e5fd0c0-459a-4f87-a608-22c803d32f9d",
      "metadata": {
        "id": "9e5fd0c0-459a-4f87-a608-22c803d32f9d"
      },
      "outputs": [],
      "source": [
        "# Check to see it the results are close to each other (if they are far off, there may be an error)\n",
        "torch.isclose(torch.tensor(model_0_results[\"model_loss\"]),\n",
        "             torch.tensor(model_2_reloaded_results[\"model_loss\"]),\n",
        "             atol=1e-08, # absolute tolerance, if needed, the default may be fine\n",
        "             rtol=0.0001 # relative error, again if needed to loosen up \"closeness\"\n",
        "             )"
      ]
    },
    {
      "cell_type": "markdown",
      "id": "efa8be20-eced-4fe5-808c-0770bb5b185a",
      "metadata": {
        "id": "efa8be20-eced-4fe5-808c-0770bb5b185a"
      },
      "source": [
        "## Exercises\n",
        "### Pytorch computer vision summary and extra-curriculum | [Chapter 125](https://youtu.be/V_xro1bcAuA&t=70678)\n"
      ]
    },
    {
      "cell_type": "markdown",
      "id": "efc31664-4b81-45ee-ac55-1f3d656de355",
      "metadata": {
        "id": "efc31664-4b81-45ee-ac55-1f3d656de355"
      },
      "source": [
        "Check the deeo_learning_main notebook 3 for details or\n",
        "\n",
        "**Resources:**\n",
        "* [Exercise template notebook for 03](https://github.com/mrdbourke/pytorch-deep-learning/blob/main/extras/exercises/03_pytorch_computer_vision_exercises.ipynb)\n",
        "* [Example solutions notebook for 03](https://github.com/mrdbourke/pytorch-deep-learning/blob/main/extras/solutions/03_pytorch_computer_vision_exercise_solutions.ipynb) (try the exercises *before* looking at this)\n",
        "\n",
        "Things to try:\n",
        "1."
      ]
    },
    {
      "cell_type": "code",
      "execution_count": null,
      "id": "ebea02f7-833d-43cb-b93b-33df97788bcc",
      "metadata": {
        "id": "ebea02f7-833d-43cb-b93b-33df97788bcc"
      },
      "outputs": [],
      "source": [
        "import torch\n",
        "torch.__version__\n",
        "import numpy\n",
        "numpy.__version__\n"
      ]
    },
    {
      "cell_type": "code",
      "execution_count": null,
      "id": "c298ca32-f158-4132-99f7-a259a642e99f",
      "metadata": {
        "id": "c298ca32-f158-4132-99f7-a259a642e99f"
      },
      "outputs": [],
      "source": [
        "import os\n",
        "from os.path import exists\n",
        "import torch\n",
        "import torch.nn as nn\n",
        "from torch.nn.functional import log_softmax, pad\n",
        "import math\n",
        "import copy\n",
        "import time\n",
        "from torch.optim.lr_scheduler import LambdaLR\n",
        "import pandas as pd\n",
        "import altair as alt\n",
        "#from torchtext.data.functional import to_map_style_dataset\n",
        "from torch.utils.data import DataLoader\n",
        "from torchtext.vocab import build_vocab_from_iterator\n",
        "import torchtext.datasets as datasets\n",
        "import spacy\n",
        "import GPUtil\n",
        "import warnings\n",
        "from torch.utils.data.distributed import DistributedSampler\n",
        "import torch.distributed as dist\n",
        "import torch.multiprocessing as mp\n",
        "from torch.nn.parallel import DistributedDataParallel as DDP\n",
        "\n",
        "\n",
        "# Set to False to skip notebook execution (e.g. for debugging)\n",
        "warnings.filterwarnings(\"ignore\")\n",
        "RUN_EXAMPLES = True"
      ]
    },
    {
      "cell_type": "code",
      "execution_count": null,
      "id": "47296cfa-c8e4-41b8-8dfa-0b19431d4925",
      "metadata": {
        "id": "47296cfa-c8e4-41b8-8dfa-0b19431d4925"
      },
      "outputs": [],
      "source": []
    }
  ],
  "metadata": {
    "kernelspec": {
      "display_name": "Python 3",
      "name": "python3"
    },
    "language_info": {
      "codemirror_mode": {
        "name": "ipython",
        "version": 3
      },
      "file_extension": ".py",
      "mimetype": "text/x-python",
      "name": "python",
      "nbconvert_exporter": "python",
      "pygments_lexer": "ipython3",
      "version": "3.12.3"
    },
    "colab": {
      "provenance": [],
      "gpuType": "T4",
      "include_colab_link": true
    },
    "accelerator": "GPU",
    "widgets": {
      "application/vnd.jupyter.widget-state+json": {
        "d8fdd67508414dd29c08de4e8f12ef32": {
          "model_module": "@jupyter-widgets/controls",
          "model_name": "HBoxModel",
          "model_module_version": "1.5.0",
          "state": {
            "_dom_classes": [],
            "_model_module": "@jupyter-widgets/controls",
            "_model_module_version": "1.5.0",
            "_model_name": "HBoxModel",
            "_view_count": null,
            "_view_module": "@jupyter-widgets/controls",
            "_view_module_version": "1.5.0",
            "_view_name": "HBoxView",
            "box_style": "",
            "children": [
              "IPY_MODEL_01378f090bd546e48d401732965f5067",
              "IPY_MODEL_431d7b29c7994a3298a2e0d679ebe4de",
              "IPY_MODEL_2e61be13483c42d29bbe600668606025"
            ],
            "layout": "IPY_MODEL_9762961383b84f23b8e0e3246c664d03"
          }
        },
        "01378f090bd546e48d401732965f5067": {
          "model_module": "@jupyter-widgets/controls",
          "model_name": "HTMLModel",
          "model_module_version": "1.5.0",
          "state": {
            "_dom_classes": [],
            "_model_module": "@jupyter-widgets/controls",
            "_model_module_version": "1.5.0",
            "_model_name": "HTMLModel",
            "_view_count": null,
            "_view_module": "@jupyter-widgets/controls",
            "_view_module_version": "1.5.0",
            "_view_name": "HTMLView",
            "description": "",
            "description_tooltip": null,
            "layout": "IPY_MODEL_053d77aea0c448e1a0931604588aa3d1",
            "placeholder": "​",
            "style": "IPY_MODEL_63172b8fa9ea4744869dfd7d461bc6d3",
            "value": "100%"
          }
        },
        "431d7b29c7994a3298a2e0d679ebe4de": {
          "model_module": "@jupyter-widgets/controls",
          "model_name": "FloatProgressModel",
          "model_module_version": "1.5.0",
          "state": {
            "_dom_classes": [],
            "_model_module": "@jupyter-widgets/controls",
            "_model_module_version": "1.5.0",
            "_model_name": "FloatProgressModel",
            "_view_count": null,
            "_view_module": "@jupyter-widgets/controls",
            "_view_module_version": "1.5.0",
            "_view_name": "ProgressView",
            "bar_style": "success",
            "description": "",
            "description_tooltip": null,
            "layout": "IPY_MODEL_82f94f3b8c9c4dd58d209fa793302173",
            "max": 3,
            "min": 0,
            "orientation": "horizontal",
            "style": "IPY_MODEL_9f3a8bd909584485a6464e91266f060b",
            "value": 3
          }
        },
        "2e61be13483c42d29bbe600668606025": {
          "model_module": "@jupyter-widgets/controls",
          "model_name": "HTMLModel",
          "model_module_version": "1.5.0",
          "state": {
            "_dom_classes": [],
            "_model_module": "@jupyter-widgets/controls",
            "_model_module_version": "1.5.0",
            "_model_name": "HTMLModel",
            "_view_count": null,
            "_view_module": "@jupyter-widgets/controls",
            "_view_module_version": "1.5.0",
            "_view_name": "HTMLView",
            "description": "",
            "description_tooltip": null,
            "layout": "IPY_MODEL_c0ccaf288eb548e09ab4b1f08e73af4c",
            "placeholder": "​",
            "style": "IPY_MODEL_84c135108f024f0b8d437443847cb9f7",
            "value": " 3/3 [00:25&lt;00:00,  8.21s/it]"
          }
        },
        "9762961383b84f23b8e0e3246c664d03": {
          "model_module": "@jupyter-widgets/base",
          "model_name": "LayoutModel",
          "model_module_version": "1.2.0",
          "state": {
            "_model_module": "@jupyter-widgets/base",
            "_model_module_version": "1.2.0",
            "_model_name": "LayoutModel",
            "_view_count": null,
            "_view_module": "@jupyter-widgets/base",
            "_view_module_version": "1.2.0",
            "_view_name": "LayoutView",
            "align_content": null,
            "align_items": null,
            "align_self": null,
            "border": null,
            "bottom": null,
            "display": null,
            "flex": null,
            "flex_flow": null,
            "grid_area": null,
            "grid_auto_columns": null,
            "grid_auto_flow": null,
            "grid_auto_rows": null,
            "grid_column": null,
            "grid_gap": null,
            "grid_row": null,
            "grid_template_areas": null,
            "grid_template_columns": null,
            "grid_template_rows": null,
            "height": null,
            "justify_content": null,
            "justify_items": null,
            "left": null,
            "margin": null,
            "max_height": null,
            "max_width": null,
            "min_height": null,
            "min_width": null,
            "object_fit": null,
            "object_position": null,
            "order": null,
            "overflow": null,
            "overflow_x": null,
            "overflow_y": null,
            "padding": null,
            "right": null,
            "top": null,
            "visibility": null,
            "width": null
          }
        },
        "053d77aea0c448e1a0931604588aa3d1": {
          "model_module": "@jupyter-widgets/base",
          "model_name": "LayoutModel",
          "model_module_version": "1.2.0",
          "state": {
            "_model_module": "@jupyter-widgets/base",
            "_model_module_version": "1.2.0",
            "_model_name": "LayoutModel",
            "_view_count": null,
            "_view_module": "@jupyter-widgets/base",
            "_view_module_version": "1.2.0",
            "_view_name": "LayoutView",
            "align_content": null,
            "align_items": null,
            "align_self": null,
            "border": null,
            "bottom": null,
            "display": null,
            "flex": null,
            "flex_flow": null,
            "grid_area": null,
            "grid_auto_columns": null,
            "grid_auto_flow": null,
            "grid_auto_rows": null,
            "grid_column": null,
            "grid_gap": null,
            "grid_row": null,
            "grid_template_areas": null,
            "grid_template_columns": null,
            "grid_template_rows": null,
            "height": null,
            "justify_content": null,
            "justify_items": null,
            "left": null,
            "margin": null,
            "max_height": null,
            "max_width": null,
            "min_height": null,
            "min_width": null,
            "object_fit": null,
            "object_position": null,
            "order": null,
            "overflow": null,
            "overflow_x": null,
            "overflow_y": null,
            "padding": null,
            "right": null,
            "top": null,
            "visibility": null,
            "width": null
          }
        },
        "63172b8fa9ea4744869dfd7d461bc6d3": {
          "model_module": "@jupyter-widgets/controls",
          "model_name": "DescriptionStyleModel",
          "model_module_version": "1.5.0",
          "state": {
            "_model_module": "@jupyter-widgets/controls",
            "_model_module_version": "1.5.0",
            "_model_name": "DescriptionStyleModel",
            "_view_count": null,
            "_view_module": "@jupyter-widgets/base",
            "_view_module_version": "1.2.0",
            "_view_name": "StyleView",
            "description_width": ""
          }
        },
        "82f94f3b8c9c4dd58d209fa793302173": {
          "model_module": "@jupyter-widgets/base",
          "model_name": "LayoutModel",
          "model_module_version": "1.2.0",
          "state": {
            "_model_module": "@jupyter-widgets/base",
            "_model_module_version": "1.2.0",
            "_model_name": "LayoutModel",
            "_view_count": null,
            "_view_module": "@jupyter-widgets/base",
            "_view_module_version": "1.2.0",
            "_view_name": "LayoutView",
            "align_content": null,
            "align_items": null,
            "align_self": null,
            "border": null,
            "bottom": null,
            "display": null,
            "flex": null,
            "flex_flow": null,
            "grid_area": null,
            "grid_auto_columns": null,
            "grid_auto_flow": null,
            "grid_auto_rows": null,
            "grid_column": null,
            "grid_gap": null,
            "grid_row": null,
            "grid_template_areas": null,
            "grid_template_columns": null,
            "grid_template_rows": null,
            "height": null,
            "justify_content": null,
            "justify_items": null,
            "left": null,
            "margin": null,
            "max_height": null,
            "max_width": null,
            "min_height": null,
            "min_width": null,
            "object_fit": null,
            "object_position": null,
            "order": null,
            "overflow": null,
            "overflow_x": null,
            "overflow_y": null,
            "padding": null,
            "right": null,
            "top": null,
            "visibility": null,
            "width": null
          }
        },
        "9f3a8bd909584485a6464e91266f060b": {
          "model_module": "@jupyter-widgets/controls",
          "model_name": "ProgressStyleModel",
          "model_module_version": "1.5.0",
          "state": {
            "_model_module": "@jupyter-widgets/controls",
            "_model_module_version": "1.5.0",
            "_model_name": "ProgressStyleModel",
            "_view_count": null,
            "_view_module": "@jupyter-widgets/base",
            "_view_module_version": "1.2.0",
            "_view_name": "StyleView",
            "bar_color": null,
            "description_width": ""
          }
        },
        "c0ccaf288eb548e09ab4b1f08e73af4c": {
          "model_module": "@jupyter-widgets/base",
          "model_name": "LayoutModel",
          "model_module_version": "1.2.0",
          "state": {
            "_model_module": "@jupyter-widgets/base",
            "_model_module_version": "1.2.0",
            "_model_name": "LayoutModel",
            "_view_count": null,
            "_view_module": "@jupyter-widgets/base",
            "_view_module_version": "1.2.0",
            "_view_name": "LayoutView",
            "align_content": null,
            "align_items": null,
            "align_self": null,
            "border": null,
            "bottom": null,
            "display": null,
            "flex": null,
            "flex_flow": null,
            "grid_area": null,
            "grid_auto_columns": null,
            "grid_auto_flow": null,
            "grid_auto_rows": null,
            "grid_column": null,
            "grid_gap": null,
            "grid_row": null,
            "grid_template_areas": null,
            "grid_template_columns": null,
            "grid_template_rows": null,
            "height": null,
            "justify_content": null,
            "justify_items": null,
            "left": null,
            "margin": null,
            "max_height": null,
            "max_width": null,
            "min_height": null,
            "min_width": null,
            "object_fit": null,
            "object_position": null,
            "order": null,
            "overflow": null,
            "overflow_x": null,
            "overflow_y": null,
            "padding": null,
            "right": null,
            "top": null,
            "visibility": null,
            "width": null
          }
        },
        "84c135108f024f0b8d437443847cb9f7": {
          "model_module": "@jupyter-widgets/controls",
          "model_name": "DescriptionStyleModel",
          "model_module_version": "1.5.0",
          "state": {
            "_model_module": "@jupyter-widgets/controls",
            "_model_module_version": "1.5.0",
            "_model_name": "DescriptionStyleModel",
            "_view_count": null,
            "_view_module": "@jupyter-widgets/base",
            "_view_module_version": "1.2.0",
            "_view_name": "StyleView",
            "description_width": ""
          }
        },
        "81aa75b793bd4b64b4782d4b36441d9a": {
          "model_module": "@jupyter-widgets/controls",
          "model_name": "HBoxModel",
          "model_module_version": "1.5.0",
          "state": {
            "_dom_classes": [],
            "_model_module": "@jupyter-widgets/controls",
            "_model_module_version": "1.5.0",
            "_model_name": "HBoxModel",
            "_view_count": null,
            "_view_module": "@jupyter-widgets/controls",
            "_view_module_version": "1.5.0",
            "_view_name": "HBoxView",
            "box_style": "",
            "children": [
              "IPY_MODEL_752ebac5c0024e86a179767f1eb0892b",
              "IPY_MODEL_2290fa4c51bc4fcaa95b462832e9fde7",
              "IPY_MODEL_e2f7d4f2a04f4ed4b6e5a7001c99807d"
            ],
            "layout": "IPY_MODEL_6541cbe564504e15bef9f2a436a05bc1"
          }
        },
        "752ebac5c0024e86a179767f1eb0892b": {
          "model_module": "@jupyter-widgets/controls",
          "model_name": "HTMLModel",
          "model_module_version": "1.5.0",
          "state": {
            "_dom_classes": [],
            "_model_module": "@jupyter-widgets/controls",
            "_model_module_version": "1.5.0",
            "_model_name": "HTMLModel",
            "_view_count": null,
            "_view_module": "@jupyter-widgets/controls",
            "_view_module_version": "1.5.0",
            "_view_name": "HTMLView",
            "description": "",
            "description_tooltip": null,
            "layout": "IPY_MODEL_a0f9d6edde734dc5970954bb5460a0d3",
            "placeholder": "​",
            "style": "IPY_MODEL_2f38f3f3bc564ebf92a35775e0d7b8c6",
            "value": "100%"
          }
        },
        "2290fa4c51bc4fcaa95b462832e9fde7": {
          "model_module": "@jupyter-widgets/controls",
          "model_name": "FloatProgressModel",
          "model_module_version": "1.5.0",
          "state": {
            "_dom_classes": [],
            "_model_module": "@jupyter-widgets/controls",
            "_model_module_version": "1.5.0",
            "_model_name": "FloatProgressModel",
            "_view_count": null,
            "_view_module": "@jupyter-widgets/controls",
            "_view_module_version": "1.5.0",
            "_view_name": "ProgressView",
            "bar_style": "success",
            "description": "",
            "description_tooltip": null,
            "layout": "IPY_MODEL_ae6ac5549f054948bd3b6801649b352c",
            "max": 157,
            "min": 0,
            "orientation": "horizontal",
            "style": "IPY_MODEL_2f3dfe0ae8e947e59d08250f28bf402f",
            "value": 157
          }
        },
        "e2f7d4f2a04f4ed4b6e5a7001c99807d": {
          "model_module": "@jupyter-widgets/controls",
          "model_name": "HTMLModel",
          "model_module_version": "1.5.0",
          "state": {
            "_dom_classes": [],
            "_model_module": "@jupyter-widgets/controls",
            "_model_module_version": "1.5.0",
            "_model_name": "HTMLModel",
            "_view_count": null,
            "_view_module": "@jupyter-widgets/controls",
            "_view_module_version": "1.5.0",
            "_view_name": "HTMLView",
            "description": "",
            "description_tooltip": null,
            "layout": "IPY_MODEL_84fa1b5c24404feb8d99b6d93c748f4b",
            "placeholder": "​",
            "style": "IPY_MODEL_c29b6b5497a3439fb0e6cf5faa155d2b",
            "value": " 157/157 [00:01&lt;00:00, 138.33it/s]"
          }
        },
        "6541cbe564504e15bef9f2a436a05bc1": {
          "model_module": "@jupyter-widgets/base",
          "model_name": "LayoutModel",
          "model_module_version": "1.2.0",
          "state": {
            "_model_module": "@jupyter-widgets/base",
            "_model_module_version": "1.2.0",
            "_model_name": "LayoutModel",
            "_view_count": null,
            "_view_module": "@jupyter-widgets/base",
            "_view_module_version": "1.2.0",
            "_view_name": "LayoutView",
            "align_content": null,
            "align_items": null,
            "align_self": null,
            "border": null,
            "bottom": null,
            "display": null,
            "flex": null,
            "flex_flow": null,
            "grid_area": null,
            "grid_auto_columns": null,
            "grid_auto_flow": null,
            "grid_auto_rows": null,
            "grid_column": null,
            "grid_gap": null,
            "grid_row": null,
            "grid_template_areas": null,
            "grid_template_columns": null,
            "grid_template_rows": null,
            "height": null,
            "justify_content": null,
            "justify_items": null,
            "left": null,
            "margin": null,
            "max_height": null,
            "max_width": null,
            "min_height": null,
            "min_width": null,
            "object_fit": null,
            "object_position": null,
            "order": null,
            "overflow": null,
            "overflow_x": null,
            "overflow_y": null,
            "padding": null,
            "right": null,
            "top": null,
            "visibility": null,
            "width": null
          }
        },
        "a0f9d6edde734dc5970954bb5460a0d3": {
          "model_module": "@jupyter-widgets/base",
          "model_name": "LayoutModel",
          "model_module_version": "1.2.0",
          "state": {
            "_model_module": "@jupyter-widgets/base",
            "_model_module_version": "1.2.0",
            "_model_name": "LayoutModel",
            "_view_count": null,
            "_view_module": "@jupyter-widgets/base",
            "_view_module_version": "1.2.0",
            "_view_name": "LayoutView",
            "align_content": null,
            "align_items": null,
            "align_self": null,
            "border": null,
            "bottom": null,
            "display": null,
            "flex": null,
            "flex_flow": null,
            "grid_area": null,
            "grid_auto_columns": null,
            "grid_auto_flow": null,
            "grid_auto_rows": null,
            "grid_column": null,
            "grid_gap": null,
            "grid_row": null,
            "grid_template_areas": null,
            "grid_template_columns": null,
            "grid_template_rows": null,
            "height": null,
            "justify_content": null,
            "justify_items": null,
            "left": null,
            "margin": null,
            "max_height": null,
            "max_width": null,
            "min_height": null,
            "min_width": null,
            "object_fit": null,
            "object_position": null,
            "order": null,
            "overflow": null,
            "overflow_x": null,
            "overflow_y": null,
            "padding": null,
            "right": null,
            "top": null,
            "visibility": null,
            "width": null
          }
        },
        "2f38f3f3bc564ebf92a35775e0d7b8c6": {
          "model_module": "@jupyter-widgets/controls",
          "model_name": "DescriptionStyleModel",
          "model_module_version": "1.5.0",
          "state": {
            "_model_module": "@jupyter-widgets/controls",
            "_model_module_version": "1.5.0",
            "_model_name": "DescriptionStyleModel",
            "_view_count": null,
            "_view_module": "@jupyter-widgets/base",
            "_view_module_version": "1.2.0",
            "_view_name": "StyleView",
            "description_width": ""
          }
        },
        "ae6ac5549f054948bd3b6801649b352c": {
          "model_module": "@jupyter-widgets/base",
          "model_name": "LayoutModel",
          "model_module_version": "1.2.0",
          "state": {
            "_model_module": "@jupyter-widgets/base",
            "_model_module_version": "1.2.0",
            "_model_name": "LayoutModel",
            "_view_count": null,
            "_view_module": "@jupyter-widgets/base",
            "_view_module_version": "1.2.0",
            "_view_name": "LayoutView",
            "align_content": null,
            "align_items": null,
            "align_self": null,
            "border": null,
            "bottom": null,
            "display": null,
            "flex": null,
            "flex_flow": null,
            "grid_area": null,
            "grid_auto_columns": null,
            "grid_auto_flow": null,
            "grid_auto_rows": null,
            "grid_column": null,
            "grid_gap": null,
            "grid_row": null,
            "grid_template_areas": null,
            "grid_template_columns": null,
            "grid_template_rows": null,
            "height": null,
            "justify_content": null,
            "justify_items": null,
            "left": null,
            "margin": null,
            "max_height": null,
            "max_width": null,
            "min_height": null,
            "min_width": null,
            "object_fit": null,
            "object_position": null,
            "order": null,
            "overflow": null,
            "overflow_x": null,
            "overflow_y": null,
            "padding": null,
            "right": null,
            "top": null,
            "visibility": null,
            "width": null
          }
        },
        "2f3dfe0ae8e947e59d08250f28bf402f": {
          "model_module": "@jupyter-widgets/controls",
          "model_name": "ProgressStyleModel",
          "model_module_version": "1.5.0",
          "state": {
            "_model_module": "@jupyter-widgets/controls",
            "_model_module_version": "1.5.0",
            "_model_name": "ProgressStyleModel",
            "_view_count": null,
            "_view_module": "@jupyter-widgets/base",
            "_view_module_version": "1.2.0",
            "_view_name": "StyleView",
            "bar_color": null,
            "description_width": ""
          }
        },
        "84fa1b5c24404feb8d99b6d93c748f4b": {
          "model_module": "@jupyter-widgets/base",
          "model_name": "LayoutModel",
          "model_module_version": "1.2.0",
          "state": {
            "_model_module": "@jupyter-widgets/base",
            "_model_module_version": "1.2.0",
            "_model_name": "LayoutModel",
            "_view_count": null,
            "_view_module": "@jupyter-widgets/base",
            "_view_module_version": "1.2.0",
            "_view_name": "LayoutView",
            "align_content": null,
            "align_items": null,
            "align_self": null,
            "border": null,
            "bottom": null,
            "display": null,
            "flex": null,
            "flex_flow": null,
            "grid_area": null,
            "grid_auto_columns": null,
            "grid_auto_flow": null,
            "grid_auto_rows": null,
            "grid_column": null,
            "grid_gap": null,
            "grid_row": null,
            "grid_template_areas": null,
            "grid_template_columns": null,
            "grid_template_rows": null,
            "height": null,
            "justify_content": null,
            "justify_items": null,
            "left": null,
            "margin": null,
            "max_height": null,
            "max_width": null,
            "min_height": null,
            "min_width": null,
            "object_fit": null,
            "object_position": null,
            "order": null,
            "overflow": null,
            "overflow_x": null,
            "overflow_y": null,
            "padding": null,
            "right": null,
            "top": null,
            "visibility": null,
            "width": null
          }
        },
        "c29b6b5497a3439fb0e6cf5faa155d2b": {
          "model_module": "@jupyter-widgets/controls",
          "model_name": "DescriptionStyleModel",
          "model_module_version": "1.5.0",
          "state": {
            "_model_module": "@jupyter-widgets/controls",
            "_model_module_version": "1.5.0",
            "_model_name": "DescriptionStyleModel",
            "_view_count": null,
            "_view_module": "@jupyter-widgets/base",
            "_view_module_version": "1.2.0",
            "_view_name": "StyleView",
            "description_width": ""
          }
        }
      }
    }
  },
  "nbformat": 4,
  "nbformat_minor": 5
}